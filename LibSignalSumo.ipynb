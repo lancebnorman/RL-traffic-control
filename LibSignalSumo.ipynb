{
  "cells": [
    {
      "cell_type": "markdown",
      "metadata": {
        "id": "view-in-github",
        "colab_type": "text"
      },
      "source": [
        "<a href=\"https://colab.research.google.com/github/lancebnorman/RL-traffic-control/blob/main/LibSignalSumo.ipynb\" target=\"_parent\"><img src=\"https://colab.research.google.com/assets/colab-badge.svg\" alt=\"Open In Colab\"/></a>"
      ]
    },
    {
      "cell_type": "markdown",
      "metadata": {
        "id": "nJl6vyuouUb9"
      },
      "source": [
        "# LibSignal: Tutorial\n",
        "\n",
        "Github Repository: https://github.com/DaRL-LibSignal/LibSignal/tree/master        \n",
        "Website: https://darl-libsignal.github.io/#/Directions      \n",
        "Document: https://darl-libsignal.github.io/LibSignalDoc/index.html"
      ]
    },
    {
      "cell_type": "markdown",
      "metadata": {
        "id": "2Lo4zb_z_EP9"
      },
      "source": [
        "## Clone LibSignal Repo"
      ]
    },
    {
      "cell_type": "code",
      "source": [
        "from google.colab import drive\n",
        "drive.mount('/content/drive')"
      ],
      "metadata": {
        "colab": {
          "base_uri": "https://localhost:8080/"
        },
        "id": "jup2lPF-yt6G",
        "outputId": "fa5e0412-3dd0-4040-bb0d-cc23529640bc"
      },
      "execution_count": null,
      "outputs": [
        {
          "output_type": "stream",
          "name": "stdout",
          "text": [
            "Drive already mounted at /content/drive; to attempt to forcibly remount, call drive.mount(\"/content/drive\", force_remount=True).\n"
          ]
        }
      ]
    },
    {
      "cell_type": "markdown",
      "metadata": {
        "id": "HGPZOkRB0e3_"
      },
      "source": [
        "create a user-customized folder(DaRL) for the experiments, get into the folder and pull the repository"
      ]
    },
    {
      "cell_type": "code",
      "source": [
        "!mkdir DaRL"
      ],
      "metadata": {
        "id": "aJe5E6rst4WY",
        "colab": {
          "base_uri": "https://localhost:8080/"
        },
        "outputId": "be61a8c2-4835-4f58-b734-0ad9d2153210"
      },
      "execution_count": null,
      "outputs": [
        {
          "output_type": "stream",
          "name": "stdout",
          "text": [
            "mkdir: cannot create directory ‘DaRL’: File exists\n"
          ]
        }
      ]
    },
    {
      "cell_type": "code",
      "source": [
        "cd DaRL"
      ],
      "metadata": {
        "id": "bVczqvIIuDQz",
        "colab": {
          "base_uri": "https://localhost:8080/"
        },
        "outputId": "3b8b5324-2061-488e-9aa2-867a7b8b91dc"
      },
      "execution_count": 2,
      "outputs": [
        {
          "output_type": "stream",
          "name": "stdout",
          "text": [
            "/content/DaRL\n"
          ]
        }
      ]
    },
    {
      "cell_type": "code",
      "execution_count": null,
      "metadata": {
        "id": "oKZv9oa9uiaV",
        "colab": {
          "base_uri": "https://localhost:8080/"
        },
        "outputId": "281a5592-899c-4437-db1e-a29a14dbfc92"
      },
      "outputs": [
        {
          "output_type": "stream",
          "name": "stdout",
          "text": [
            "fatal: destination path 'LibSignal' already exists and is not an empty directory.\n"
          ]
        }
      ],
      "source": [
        "!git clone --branch doc_ver https://github.com/DaRL-LibSignal/LibSignal.git"
      ]
    },
    {
      "cell_type": "code",
      "source": [
        "cd LibSignal"
      ],
      "metadata": {
        "colab": {
          "base_uri": "https://localhost:8080/"
        },
        "id": "LHoK14umuG-x",
        "outputId": "f761d422-5e47-46bb-d783-4fa15d3db5f1"
      },
      "execution_count": 3,
      "outputs": [
        {
          "output_type": "stream",
          "name": "stdout",
          "text": [
            "/content/DaRL/LibSignal\n"
          ]
        }
      ]
    },
    {
      "cell_type": "code",
      "execution_count": 4,
      "metadata": {
        "colab": {
          "base_uri": "https://localhost:8080/"
        },
        "id": "S9ogeNkvSD99",
        "outputId": "9f0f0ee0-fa3f-4040-dadd-3bf03e5cc31e"
      },
      "outputs": [
        {
          "output_type": "stream",
          "name": "stdout",
          "text": [
            "Requirement already satisfied: setuptools in /usr/local/lib/python3.10/dist-packages (69.0.2)\n"
          ]
        }
      ],
      "source": [
        "!pip install -U setuptools"
      ]
    },
    {
      "cell_type": "code",
      "source": [
        "!pip install -U gym"
      ],
      "metadata": {
        "colab": {
          "base_uri": "https://localhost:8080/"
        },
        "id": "W3e9N-skwSVp",
        "outputId": "fe470844-4059-4c89-fc08-d538969b7260"
      },
      "execution_count": 5,
      "outputs": [
        {
          "output_type": "stream",
          "name": "stdout",
          "text": [
            "Requirement already satisfied: gym in /usr/local/lib/python3.10/dist-packages (0.25.2)\n",
            "Collecting gym\n",
            "  Downloading gym-0.26.2.tar.gz (721 kB)\n",
            "\u001b[2K     \u001b[90m━━━━━━━━━━━━━━━━━━━━━━━━━━━━━━━━━━━━━━━━\u001b[0m \u001b[32m721.7/721.7 kB\u001b[0m \u001b[31m5.8 MB/s\u001b[0m eta \u001b[36m0:00:00\u001b[0m\n",
            "\u001b[?25h  Installing build dependencies ... \u001b[?25l\u001b[?25hdone\n",
            "  Getting requirements to build wheel ... \u001b[?25l\u001b[?25hdone\n",
            "  Preparing metadata (pyproject.toml) ... \u001b[?25l\u001b[?25hdone\n",
            "Requirement already satisfied: numpy>=1.18.0 in /usr/local/lib/python3.10/dist-packages (from gym) (1.23.5)\n",
            "Requirement already satisfied: cloudpickle>=1.2.0 in /usr/local/lib/python3.10/dist-packages (from gym) (2.2.1)\n",
            "Requirement already satisfied: gym-notices>=0.0.4 in /usr/local/lib/python3.10/dist-packages (from gym) (0.0.8)\n",
            "Building wheels for collected packages: gym\n",
            "  Building wheel for gym (pyproject.toml) ... \u001b[?25l\u001b[?25hdone\n",
            "  Created wheel for gym: filename=gym-0.26.2-py3-none-any.whl size=827617 sha256=48722f97f25efe7cb9c93ef050ecdaf54aa69246d6e31d63a01dcf7b6bb40b2a\n",
            "  Stored in directory: /root/.cache/pip/wheels/b9/22/6d/3e7b32d98451b4cd9d12417052affbeeeea012955d437da1da\n",
            "Successfully built gym\n",
            "Installing collected packages: gym\n",
            "  Attempting uninstall: gym\n",
            "    Found existing installation: gym 0.25.2\n",
            "    Uninstalling gym-0.25.2:\n",
            "      Successfully uninstalled gym-0.25.2\n",
            "\u001b[31mERROR: pip's dependency resolver does not currently take into account all the packages that are installed. This behaviour is the source of the following dependency conflicts.\n",
            "dopamine-rl 4.0.6 requires gym<=0.25.2, but you have gym 0.26.2 which is incompatible.\u001b[0m\u001b[31m\n",
            "\u001b[0mSuccessfully installed gym-0.26.2\n"
          ]
        }
      ]
    },
    {
      "cell_type": "code",
      "execution_count": 7,
      "metadata": {
        "colab": {
          "base_uri": "https://localhost:8080/",
          "height": 1000
        },
        "id": "WqaYG0Y69J7P",
        "outputId": "78834358-8ffd-4ff1-8498-821ae5401b70"
      },
      "outputs": [
        {
          "output_type": "stream",
          "name": "stdout",
          "text": [
            "Requirement already satisfied: gym==0.26.2 in /usr/local/lib/python3.10/dist-packages (from -r requirements.txt (line 1)) (0.26.2)\n",
            "Collecting lmdb==1.3.0 (from -r requirements.txt (line 2))\n",
            "  Downloading lmdb-1.3.0-cp310-cp310-manylinux_2_12_x86_64.manylinux2010_x86_64.whl (306 kB)\n",
            "\u001b[2K     \u001b[90m━━━━━━━━━━━━━━━━━━━━━━━━━━━━━━━━━━━━━━━━\u001b[0m \u001b[32m306.5/306.5 kB\u001b[0m \u001b[31m3.0 MB/s\u001b[0m eta \u001b[36m0:00:00\u001b[0m\n",
            "\u001b[?25hCollecting mpmath==1.2.1 (from -r requirements.txt (line 3))\n",
            "  Downloading mpmath-1.2.1-py3-none-any.whl (532 kB)\n",
            "\u001b[2K     \u001b[90m━━━━━━━━━━━━━━━━━━━━━━━━━━━━━━━━━━━━━━━━\u001b[0m \u001b[32m532.6/532.6 kB\u001b[0m \u001b[31m45.3 MB/s\u001b[0m eta \u001b[36m0:00:00\u001b[0m\n",
            "\u001b[?25hCollecting numpy==1.21.5 (from -r requirements.txt (line 4))\n",
            "  Downloading numpy-1.21.5-cp310-cp310-manylinux_2_17_x86_64.manylinux2014_x86_64.whl (15.9 MB)\n",
            "\u001b[2K     \u001b[90m━━━━━━━━━━━━━━━━━━━━━━━━━━━━━━━━━━━━━━━━\u001b[0m \u001b[32m15.9/15.9 MB\u001b[0m \u001b[31m171.1 MB/s\u001b[0m eta \u001b[36m0:00:00\u001b[0m\n",
            "\u001b[?25hCollecting PyYAML==6.0 (from -r requirements.txt (line 5))\n",
            "  Downloading PyYAML-6.0-cp310-cp310-manylinux_2_5_x86_64.manylinux1_x86_64.manylinux_2_12_x86_64.manylinux2010_x86_64.whl (682 kB)\n",
            "\u001b[2K     \u001b[90m━━━━━━━━━━━━━━━━━━━━━━━━━━━━━━━━━━━━━━━━\u001b[0m \u001b[32m682.2/682.2 kB\u001b[0m \u001b[31m160.1 MB/s\u001b[0m eta \u001b[36m0:00:00\u001b[0m\n",
            "\u001b[?25hCollecting sympy==1.10.1 (from -r requirements.txt (line 6))\n",
            "  Downloading sympy-1.10.1-py3-none-any.whl (6.4 MB)\n",
            "\u001b[2K     \u001b[90m━━━━━━━━━━━━━━━━━━━━━━━━━━━━━━━━━━━━━━━━\u001b[0m \u001b[32m6.4/6.4 MB\u001b[0m \u001b[31m195.5 MB/s\u001b[0m eta \u001b[36m0:00:00\u001b[0m\n",
            "\u001b[?25hRequirement already satisfied: cloudpickle>=1.2.0 in /usr/local/lib/python3.10/dist-packages (from gym==0.26.2->-r requirements.txt (line 1)) (2.2.1)\n",
            "Requirement already satisfied: gym-notices>=0.0.4 in /usr/local/lib/python3.10/dist-packages (from gym==0.26.2->-r requirements.txt (line 1)) (0.0.8)\n",
            "Installing collected packages: mpmath, lmdb, sympy, PyYAML, numpy\n",
            "  Attempting uninstall: mpmath\n",
            "    Found existing installation: mpmath 1.3.0\n",
            "    Uninstalling mpmath-1.3.0:\n",
            "      Successfully uninstalled mpmath-1.3.0\n",
            "  Attempting uninstall: sympy\n",
            "    Found existing installation: sympy 1.12\n",
            "    Uninstalling sympy-1.12:\n",
            "      Successfully uninstalled sympy-1.12\n",
            "  Attempting uninstall: PyYAML\n",
            "    Found existing installation: PyYAML 6.0.1\n",
            "    Uninstalling PyYAML-6.0.1:\n",
            "      Successfully uninstalled PyYAML-6.0.1\n",
            "  Attempting uninstall: numpy\n",
            "    Found existing installation: numpy 1.23.5\n",
            "    Uninstalling numpy-1.23.5:\n",
            "      Successfully uninstalled numpy-1.23.5\n",
            "\u001b[31mERROR: pip's dependency resolver does not currently take into account all the packages that are installed. This behaviour is the source of the following dependency conflicts.\n",
            "lida 0.0.10 requires fastapi, which is not installed.\n",
            "lida 0.0.10 requires kaleido, which is not installed.\n",
            "lida 0.0.10 requires python-multipart, which is not installed.\n",
            "lida 0.0.10 requires uvicorn, which is not installed.\n",
            "llmx 0.0.15a0 requires cohere, which is not installed.\n",
            "llmx 0.0.15a0 requires openai, which is not installed.\n",
            "llmx 0.0.15a0 requires tiktoken, which is not installed.\n",
            "dopamine-rl 4.0.6 requires gym<=0.25.2, but you have gym 0.26.2 which is incompatible.\n",
            "flax 0.7.5 requires numpy>=1.22, but you have numpy 1.21.5 which is incompatible.\n",
            "jax 0.4.20 requires numpy>=1.22, but you have numpy 1.21.5 which is incompatible.\n",
            "jaxlib 0.4.20+cuda11.cudnn86 requires numpy>=1.22, but you have numpy 1.21.5 which is incompatible.\n",
            "numba 0.58.1 requires numpy<1.27,>=1.22, but you have numpy 1.21.5 which is incompatible.\n",
            "plotnine 0.12.4 requires numpy>=1.23.0, but you have numpy 1.21.5 which is incompatible.\n",
            "pywavelets 1.5.0 requires numpy<2.0,>=1.22.4, but you have numpy 1.21.5 which is incompatible.\n",
            "scipy 1.11.4 requires numpy<1.28.0,>=1.21.6, but you have numpy 1.21.5 which is incompatible.\n",
            "tensorflow 2.14.0 requires numpy>=1.23.5, but you have numpy 1.21.5 which is incompatible.\u001b[0m\u001b[31m\n",
            "\u001b[0mSuccessfully installed PyYAML-6.0 lmdb-1.3.0 mpmath-1.2.1 numpy-1.21.5 sympy-1.10.1\n"
          ]
        },
        {
          "output_type": "display_data",
          "data": {
            "application/vnd.colab-display-data+json": {
              "pip_warning": {
                "packages": [
                  "numpy"
                ]
              }
            }
          },
          "metadata": {}
        }
      ],
      "source": [
        "!pip install -r requirements.txt --no-cache-dir"
      ]
    },
    {
      "cell_type": "markdown",
      "metadata": {
        "id": "m4U9plyv3iNg"
      },
      "source": [
        "## Install CityFlow Environment"
      ]
    },
    {
      "cell_type": "code",
      "execution_count": 1,
      "metadata": {
        "colab": {
          "base_uri": "https://localhost:8080/"
        },
        "id": "4HKtlYGl3vpH",
        "outputId": "02b752d6-8f48-4410-802b-2b2ad663581f"
      },
      "outputs": [
        {
          "output_type": "stream",
          "name": "stdout",
          "text": [
            "\u001b[33m\r0% [Working]\u001b[0m\r            \rGet:1 http://security.ubuntu.com/ubuntu jammy-security InRelease [110 kB]\n",
            "\u001b[33m\r0% [Connecting to archive.ubuntu.com] [1 InRelease 14.2 kB/110 kB 13%] [Connect\u001b[0m\r                                                                               \rGet:2 https://cloud.r-project.org/bin/linux/ubuntu jammy-cran40/ InRelease [3,626 B]\n",
            "\u001b[33m\r0% [Connecting to archive.ubuntu.com] [1 InRelease 82.3 kB/110 kB 75%] [2 InRel\u001b[0m\u001b[33m\r0% [Connecting to archive.ubuntu.com] [1 InRelease 110 kB/110 kB 100%] [Connect\u001b[0m\u001b[33m\r0% [Connecting to archive.ubuntu.com (91.189.91.82)] [Connecting to ppa.launchp\u001b[0m\r                                                                               \rHit:3 http://archive.ubuntu.com/ubuntu jammy InRelease\n",
            "\u001b[33m\r0% [Waiting for headers] [Connected to ppa.launchpadcontent.net (185.125.190.80\u001b[0m\r                                                                               \rGet:4 https://developer.download.nvidia.com/compute/cuda/repos/ubuntu2204/x86_64  InRelease [1,581 B]\n",
            "\u001b[33m\r0% [Waiting for headers] [Connected to ppa.launchpadcontent.net (185.125.190.80\u001b[0m\r                                                                               \rGet:5 http://archive.ubuntu.com/ubuntu jammy-updates InRelease [119 kB]\n",
            "Get:6 http://archive.ubuntu.com/ubuntu jammy-backports InRelease [109 kB]\n",
            "Hit:7 https://ppa.launchpadcontent.net/c2d4u.team/c2d4u4.0+/ubuntu jammy InRelease\n",
            "Get:8 http://security.ubuntu.com/ubuntu jammy-security/main amd64 Packages [1,282 kB]\n",
            "Get:9 https://ppa.launchpadcontent.net/deadsnakes/ppa/ubuntu jammy InRelease [18.1 kB]\n",
            "Get:10 http://security.ubuntu.com/ubuntu jammy-security/restricted amd64 Packages [1,512 kB]\n",
            "Hit:11 https://ppa.launchpadcontent.net/graphics-drivers/ppa/ubuntu jammy InRelease\n",
            "Get:12 http://security.ubuntu.com/ubuntu jammy-security/universe amd64 Packages [1,036 kB]\n",
            "Hit:13 https://ppa.launchpadcontent.net/ubuntugis/ppa/ubuntu jammy InRelease\n",
            "Get:14 https://developer.download.nvidia.com/compute/cuda/repos/ubuntu2204/x86_64  Packages [633 kB]\n",
            "Get:15 http://archive.ubuntu.com/ubuntu jammy-updates/universe amd64 Packages [1,304 kB]\n",
            "Get:16 http://archive.ubuntu.com/ubuntu jammy-updates/restricted amd64 Packages [1,572 kB]\n",
            "Get:17 http://archive.ubuntu.com/ubuntu jammy-updates/main amd64 Packages [1,576 kB]\n",
            "Get:18 http://archive.ubuntu.com/ubuntu jammy-backports/universe amd64 Packages [32.6 kB]\n",
            "Get:19 https://ppa.launchpadcontent.net/deadsnakes/ppa/ubuntu jammy/main amd64 Packages [28.0 kB]\n",
            "Fetched 9,337 kB in 2s (4,592 kB/s)\n",
            "Reading package lists... Done\n",
            "Building dependency tree... Done\n",
            "Reading state information... Done\n",
            "29 packages can be upgraded. Run 'apt list --upgradable' to see them.\n",
            "Reading package lists... Done\n",
            "Building dependency tree... Done\n",
            "Reading state information... Done\n",
            "build-essential is already the newest version (12.9ubuntu3).\n",
            "cmake is already the newest version (3.22.1-1ubuntu1.22.04.1).\n",
            "0 upgraded, 0 newly installed, 0 to remove and 29 not upgraded.\n",
            "Cloning into 'CityFlow'...\n",
            "remote: Enumerating objects: 780, done.\u001b[K\n",
            "remote: Counting objects: 100% (8/8), done.\u001b[K\n",
            "remote: Compressing objects: 100% (8/8), done.\u001b[K\n",
            "remote: Total 780 (delta 1), reused 3 (delta 0), pack-reused 772\u001b[K\n",
            "Receiving objects: 100% (780/780), 334.62 KiB | 10.14 MiB/s, done.\n",
            "Resolving deltas: 100% (448/448), done.\n"
          ]
        }
      ],
      "source": [
        "!sudo apt update && sudo apt install -y build-essential cmake\n",
        "!git clone https://github.com/cityflow-project/CityFlow.git"
      ]
    },
    {
      "cell_type": "code",
      "execution_count": 11,
      "metadata": {
        "colab": {
          "base_uri": "https://localhost:8080/"
        },
        "id": "kohmXbm9Sebj",
        "outputId": "101a61db-14e2-4586-efa7-8e6be39dbd23"
      },
      "outputs": [
        {
          "output_type": "stream",
          "name": "stdout",
          "text": [
            "/content/DaRL/LibSignal/CityFlow\n"
          ]
        }
      ],
      "source": [
        "cd /content/DaRL/LibSignal/CityFlow"
      ]
    },
    {
      "cell_type": "code",
      "execution_count": 12,
      "metadata": {
        "colab": {
          "base_uri": "https://localhost:8080/"
        },
        "id": "vYIHEZ_hpwzZ",
        "outputId": "2fdad58c-b096-4111-af47-9bcb8b4b597b"
      },
      "outputs": [
        {
          "output_type": "stream",
          "name": "stdout",
          "text": [
            "Processing /content/DaRL/LibSignal/CityFlow\n",
            "  Preparing metadata (setup.py) ... \u001b[?25l\u001b[?25hdone\n",
            "Building wheels for collected packages: CityFlow\n",
            "  Building wheel for CityFlow (setup.py) ... \u001b[?25l\u001b[?25hdone\n",
            "  Created wheel for CityFlow: filename=CityFlow-0.1-cp310-cp310-linux_x86_64.whl size=248002 sha256=a87959d4d655147898514a8b3bfbc026d317f08fe7a7fb04070122b5be04bcad\n",
            "  Stored in directory: /tmp/pip-ephem-wheel-cache-3x4v9g7p/wheels/4d/25/94/fd0c0d20baf8529537e5e300adf6858729f932e489f656ead1\n",
            "Successfully built CityFlow\n",
            "Installing collected packages: CityFlow\n",
            "Successfully installed CityFlow-0.1\n"
          ]
        }
      ],
      "source": [
        "!pip install ."
      ]
    },
    {
      "cell_type": "code",
      "execution_count": 13,
      "metadata": {
        "colab": {
          "base_uri": "https://localhost:8080/"
        },
        "id": "bFLVndRxA0c9",
        "outputId": "e6a822d5-f26c-43b5-96c9-6d7b25c51893"
      },
      "outputs": [
        {
          "output_type": "stream",
          "name": "stdout",
          "text": [
            "/content/DaRL/LibSignal\n"
          ]
        }
      ],
      "source": [
        "cd .."
      ]
    },
    {
      "cell_type": "markdown",
      "metadata": {
        "id": "rwi9__gRr5MD"
      },
      "source": [
        "Test CityFlow's import status:"
      ]
    },
    {
      "cell_type": "code",
      "execution_count": 14,
      "metadata": {
        "colab": {
          "base_uri": "https://localhost:8080/"
        },
        "id": "bOLpUzCnp8qp",
        "outputId": "014f0457-7c1b-4e94-ef1c-8243a71dac51"
      },
      "outputs": [
        {
          "output_type": "stream",
          "name": "stdout",
          "text": [
            "<module 'cityflow' from '/usr/local/lib/python3.10/dist-packages/cityflow.cpython-310-x86_64-linux-gnu.so'>\n"
          ]
        }
      ],
      "source": [
        "import cityflow\n",
        "env = cityflow.Engine\n",
        "print(cityflow)"
      ]
    },
    {
      "cell_type": "code",
      "source": [
        "!git clone --recursive https://github.com/eclipse/sumo"
      ],
      "metadata": {
        "id": "fOMY8ddC9Llk",
        "colab": {
          "base_uri": "https://localhost:8080/"
        },
        "outputId": "cef647a7-d4e3-489c-b1c3-f76b815406f0"
      },
      "execution_count": 15,
      "outputs": [
        {
          "output_type": "stream",
          "name": "stdout",
          "text": [
            "Cloning into 'sumo'...\n",
            "remote: Enumerating objects: 1602928, done.\u001b[K\n",
            "remote: Counting objects: 100% (15270/15270), done.\u001b[K\n",
            "remote: Compressing objects: 100% (2166/2166), done.\u001b[K\n",
            "remote: Total 1602928 (delta 14243), reused 13449 (delta 13103), pack-reused 1587658\u001b[K\n",
            "Receiving objects: 100% (1602928/1602928), 1.06 GiB | 21.36 MiB/s, done.\n",
            "Resolving deltas: 100% (1374158/1374158), done.\n",
            "Updating files: 100% (118198/118198), done.\n",
            "Submodule 'build_config/brew' (https://github.com/DLR-TS/homebrew-sumo) registered for path 'build_config/brew'\n",
            "Submodule 'tools/contributed/saga' (https://github.com/lcodeca/SUMOActivityGen) registered for path 'tools/contributed/saga'\n",
            "Submodule 'tools/contributed/traci4matlab' (https://github.com/pipeacosta/traci4matlab) registered for path 'tools/contributed/traci4matlab'\n",
            "Cloning into '/content/DaRL/LibSignal/sumo/build_config/brew'...\n",
            "remote: Enumerating objects: 997, done.        \n",
            "remote: Counting objects: 100% (308/308), done.        \n",
            "remote: Compressing objects: 100% (150/150), done.        \n",
            "remote: Total 997 (delta 189), reused 222 (delta 140), pack-reused 689        \n",
            "Receiving objects: 100% (997/997), 132.79 KiB | 7.81 MiB/s, done.\n",
            "Resolving deltas: 100% (610/610), done.\n",
            "Cloning into '/content/DaRL/LibSignal/sumo/tools/contributed/saga'...\n",
            "remote: Enumerating objects: 1059, done.        \n",
            "remote: Counting objects: 100% (373/373), done.        \n",
            "remote: Compressing objects: 100% (128/128), done.        \n",
            "remote: Total 1059 (delta 271), reused 312 (delta 236), pack-reused 686        \n",
            "Receiving objects: 100% (1059/1059), 30.94 MiB | 22.81 MiB/s, done.\n",
            "Resolving deltas: 100% (627/627), done.\n",
            "Cloning into '/content/DaRL/LibSignal/sumo/tools/contributed/traci4matlab'...\n",
            "remote: Enumerating objects: 4808, done.        \n",
            "remote: Counting objects: 100% (24/24), done.        \n",
            "remote: Compressing objects: 100% (19/19), done.        \n",
            "remote: Total 4808 (delta 8), reused 11 (delta 5), pack-reused 4784        \n",
            "Receiving objects: 100% (4808/4808), 3.58 MiB | 26.17 MiB/s, done.\n",
            "Resolving deltas: 100% (3080/3080), done.\n",
            "Submodule path 'build_config/brew': checked out '46beb64e4519cdc2304e0814c43432fa2e8a77ca'\n",
            "Submodule path 'tools/contributed/saga': checked out '6339608b8bfe8acfea8c08cb43df3da99e0411b8'\n",
            "Submodule path 'tools/contributed/traci4matlab': checked out '245ddc78e2507ceb8d6fa197f3fa2087d8492627'\n"
          ]
        }
      ]
    },
    {
      "cell_type": "code",
      "source": [
        "!sudo apt-get install cmake g++ libxerces-c-dev libfox-1.6-dev libgdal-dev libproj-dev libgl2ps-dev swig"
      ],
      "metadata": {
        "colab": {
          "base_uri": "https://localhost:8080/"
        },
        "id": "pcXwzOOtyhch",
        "outputId": "4b52440d-e33a-4cd5-96c0-164ba76efb15"
      },
      "execution_count": 16,
      "outputs": [
        {
          "output_type": "stream",
          "name": "stdout",
          "text": [
            "Reading package lists... Done\n",
            "Building dependency tree... Done\n",
            "Reading state information... Done\n",
            "g++ is already the newest version (4:11.2.0-1ubuntu1).\n",
            "g++ set to manually installed.\n",
            "libproj-dev is already the newest version (8.2.1-1).\n",
            "libproj-dev set to manually installed.\n",
            "libxerces-c-dev is already the newest version (3.2.3+debian-3build1).\n",
            "libxerces-c-dev set to manually installed.\n",
            "cmake is already the newest version (3.22.1-1ubuntu1.22.04.1).\n",
            "libgdal-dev is already the newest version (3.4.3+dfsg-1~jammy0).\n",
            "The following additional packages will be installed:\n",
            "  libcups2-dev libcupsfilters-dev libcupsfilters1 libcupsimage2\n",
            "  libcupsimage2-dev libegl-dev libfox-1.6-0 libgl-dev libgl1-mesa-dev\n",
            "  libgles-dev libgles1 libglu1-mesa libglu1-mesa-dev libglvnd-core-dev\n",
            "  libglvnd-dev libglx-dev libopengl-dev libtiff5-dev libxcursor-dev\n",
            "  libxfixes-dev swig4.0\n",
            "Suggested packages:\n",
            "  libfox-1.6-doc swig-doc swig-examples swig4.0-examples swig4.0-doc\n",
            "The following NEW packages will be installed:\n",
            "  libcups2-dev libcupsfilters-dev libcupsfilters1 libcupsimage2\n",
            "  libcupsimage2-dev libegl-dev libfox-1.6-0 libfox-1.6-dev libgl-dev\n",
            "  libgl1-mesa-dev libgl2ps-dev libgles-dev libgles1 libglu1-mesa\n",
            "  libglu1-mesa-dev libglvnd-core-dev libglvnd-dev libglx-dev libopengl-dev\n",
            "  libtiff5-dev libxcursor-dev libxfixes-dev swig swig4.0\n",
            "0 upgraded, 24 newly installed, 0 to remove and 29 not upgraded.\n",
            "Need to get 4,659 kB of archives.\n",
            "After this operation, 25.6 MB of additional disk space will be used.\n",
            "Get:1 http://archive.ubuntu.com/ubuntu jammy-updates/main amd64 libcupsimage2 amd64 2.4.1op1-1ubuntu4.7 [6,180 B]\n",
            "Get:2 http://archive.ubuntu.com/ubuntu jammy-updates/main amd64 libcupsimage2-dev amd64 2.4.1op1-1ubuntu4.7 [6,630 B]\n",
            "Get:3 http://archive.ubuntu.com/ubuntu jammy-updates/main amd64 libcups2-dev amd64 2.4.1op1-1ubuntu4.7 [321 kB]\n",
            "Get:4 http://archive.ubuntu.com/ubuntu jammy-updates/main amd64 libcupsfilters1 amd64 1.28.15-0ubuntu1.2 [129 kB]\n",
            "Get:5 http://archive.ubuntu.com/ubuntu jammy-updates/main amd64 libcupsfilters-dev amd64 1.28.15-0ubuntu1.2 [122 kB]\n",
            "Get:6 http://archive.ubuntu.com/ubuntu jammy/main amd64 libglx-dev amd64 1.4.0-1 [14.1 kB]\n",
            "Get:7 http://archive.ubuntu.com/ubuntu jammy/main amd64 libgl-dev amd64 1.4.0-1 [101 kB]\n",
            "Get:8 http://archive.ubuntu.com/ubuntu jammy/main amd64 libegl-dev amd64 1.4.0-1 [18.0 kB]\n",
            "Get:9 http://archive.ubuntu.com/ubuntu jammy/main amd64 libglu1-mesa amd64 9.0.2-1 [145 kB]\n",
            "Get:10 http://archive.ubuntu.com/ubuntu jammy/universe amd64 libfox-1.6-0 amd64 1.6.57-1build1 [890 kB]\n",
            "Get:11 http://archive.ubuntu.com/ubuntu jammy/main amd64 libglvnd-core-dev amd64 1.4.0-1 [12.7 kB]\n",
            "Get:12 http://archive.ubuntu.com/ubuntu jammy/main amd64 libgles1 amd64 1.4.0-1 [11.5 kB]\n",
            "Get:13 http://archive.ubuntu.com/ubuntu jammy/main amd64 libgles-dev amd64 1.4.0-1 [49.4 kB]\n",
            "Get:14 http://archive.ubuntu.com/ubuntu jammy/main amd64 libopengl-dev amd64 1.4.0-1 [3,400 B]\n",
            "Get:15 http://archive.ubuntu.com/ubuntu jammy/main amd64 libglvnd-dev amd64 1.4.0-1 [3,162 B]\n",
            "Get:16 http://archive.ubuntu.com/ubuntu jammy-updates/main amd64 libgl1-mesa-dev amd64 23.0.4-0ubuntu1~22.04.1 [6,510 B]\n",
            "Get:17 http://archive.ubuntu.com/ubuntu jammy/main amd64 libglu1-mesa-dev amd64 9.0.2-1 [231 kB]\n",
            "Get:18 http://archive.ubuntu.com/ubuntu jammy-updates/main amd64 libtiff5-dev amd64 4.3.0-6ubuntu0.7 [2,100 B]\n",
            "Get:19 http://archive.ubuntu.com/ubuntu jammy/main amd64 libxfixes-dev amd64 1:6.0.0-1 [12.2 kB]\n",
            "Get:20 http://archive.ubuntu.com/ubuntu jammy/main amd64 libxcursor-dev amd64 1:1.2.0-2build4 [28.2 kB]\n",
            "Get:21 http://archive.ubuntu.com/ubuntu jammy/universe amd64 libfox-1.6-dev amd64 1.6.57-1build1 [1,181 kB]\n",
            "Get:22 http://archive.ubuntu.com/ubuntu jammy/universe amd64 libgl2ps-dev amd64 1.4.2+dfsg1-2 [248 kB]\n",
            "Get:23 http://archive.ubuntu.com/ubuntu jammy/universe amd64 swig4.0 amd64 4.0.2-1ubuntu1 [1,110 kB]\n",
            "Get:24 http://archive.ubuntu.com/ubuntu jammy/universe amd64 swig all 4.0.2-1ubuntu1 [5,632 B]\n",
            "Fetched 4,659 kB in 0s (22.9 MB/s)\n",
            "debconf: unable to initialize frontend: Dialog\n",
            "debconf: (No usable dialog-like program is installed, so the dialog based frontend cannot be used. at /usr/share/perl5/Debconf/FrontEnd/Dialog.pm line 78, <> line 24.)\n",
            "debconf: falling back to frontend: Readline\n",
            "debconf: unable to initialize frontend: Readline\n",
            "debconf: (This frontend requires a controlling tty.)\n",
            "debconf: falling back to frontend: Teletype\n",
            "dpkg-preconfigure: unable to re-open stdin: \n",
            "Selecting previously unselected package libcupsimage2:amd64.\n",
            "(Reading database ... 120899 files and directories currently installed.)\n",
            "Preparing to unpack .../00-libcupsimage2_2.4.1op1-1ubuntu4.7_amd64.deb ...\n",
            "Unpacking libcupsimage2:amd64 (2.4.1op1-1ubuntu4.7) ...\n",
            "Selecting previously unselected package libcupsimage2-dev:amd64.\n",
            "Preparing to unpack .../01-libcupsimage2-dev_2.4.1op1-1ubuntu4.7_amd64.deb ...\n",
            "Unpacking libcupsimage2-dev:amd64 (2.4.1op1-1ubuntu4.7) ...\n",
            "Selecting previously unselected package libcups2-dev:amd64.\n",
            "Preparing to unpack .../02-libcups2-dev_2.4.1op1-1ubuntu4.7_amd64.deb ...\n",
            "Unpacking libcups2-dev:amd64 (2.4.1op1-1ubuntu4.7) ...\n",
            "Selecting previously unselected package libcupsfilters1:amd64.\n",
            "Preparing to unpack .../03-libcupsfilters1_1.28.15-0ubuntu1.2_amd64.deb ...\n",
            "Unpacking libcupsfilters1:amd64 (1.28.15-0ubuntu1.2) ...\n",
            "Selecting previously unselected package libcupsfilters-dev:amd64.\n",
            "Preparing to unpack .../04-libcupsfilters-dev_1.28.15-0ubuntu1.2_amd64.deb ...\n",
            "Unpacking libcupsfilters-dev:amd64 (1.28.15-0ubuntu1.2) ...\n",
            "Selecting previously unselected package libglx-dev:amd64.\n",
            "Preparing to unpack .../05-libglx-dev_1.4.0-1_amd64.deb ...\n",
            "Unpacking libglx-dev:amd64 (1.4.0-1) ...\n",
            "Selecting previously unselected package libgl-dev:amd64.\n",
            "Preparing to unpack .../06-libgl-dev_1.4.0-1_amd64.deb ...\n",
            "Unpacking libgl-dev:amd64 (1.4.0-1) ...\n",
            "Selecting previously unselected package libegl-dev:amd64.\n",
            "Preparing to unpack .../07-libegl-dev_1.4.0-1_amd64.deb ...\n",
            "Unpacking libegl-dev:amd64 (1.4.0-1) ...\n",
            "Selecting previously unselected package libglu1-mesa:amd64.\n",
            "Preparing to unpack .../08-libglu1-mesa_9.0.2-1_amd64.deb ...\n",
            "Unpacking libglu1-mesa:amd64 (9.0.2-1) ...\n",
            "Selecting previously unselected package libfox-1.6-0:amd64.\n",
            "Preparing to unpack .../09-libfox-1.6-0_1.6.57-1build1_amd64.deb ...\n",
            "Unpacking libfox-1.6-0:amd64 (1.6.57-1build1) ...\n",
            "Selecting previously unselected package libglvnd-core-dev:amd64.\n",
            "Preparing to unpack .../10-libglvnd-core-dev_1.4.0-1_amd64.deb ...\n",
            "Unpacking libglvnd-core-dev:amd64 (1.4.0-1) ...\n",
            "Selecting previously unselected package libgles1:amd64.\n",
            "Preparing to unpack .../11-libgles1_1.4.0-1_amd64.deb ...\n",
            "Unpacking libgles1:amd64 (1.4.0-1) ...\n",
            "Selecting previously unselected package libgles-dev:amd64.\n",
            "Preparing to unpack .../12-libgles-dev_1.4.0-1_amd64.deb ...\n",
            "Unpacking libgles-dev:amd64 (1.4.0-1) ...\n",
            "Selecting previously unselected package libopengl-dev:amd64.\n",
            "Preparing to unpack .../13-libopengl-dev_1.4.0-1_amd64.deb ...\n",
            "Unpacking libopengl-dev:amd64 (1.4.0-1) ...\n",
            "Selecting previously unselected package libglvnd-dev:amd64.\n",
            "Preparing to unpack .../14-libglvnd-dev_1.4.0-1_amd64.deb ...\n",
            "Unpacking libglvnd-dev:amd64 (1.4.0-1) ...\n",
            "Selecting previously unselected package libgl1-mesa-dev:amd64.\n",
            "Preparing to unpack .../15-libgl1-mesa-dev_23.0.4-0ubuntu1~22.04.1_amd64.deb ...\n",
            "Unpacking libgl1-mesa-dev:amd64 (23.0.4-0ubuntu1~22.04.1) ...\n",
            "Selecting previously unselected package libglu1-mesa-dev:amd64.\n",
            "Preparing to unpack .../16-libglu1-mesa-dev_9.0.2-1_amd64.deb ...\n",
            "Unpacking libglu1-mesa-dev:amd64 (9.0.2-1) ...\n",
            "Selecting previously unselected package libtiff5-dev:amd64.\n",
            "Preparing to unpack .../17-libtiff5-dev_4.3.0-6ubuntu0.7_amd64.deb ...\n",
            "Unpacking libtiff5-dev:amd64 (4.3.0-6ubuntu0.7) ...\n",
            "Selecting previously unselected package libxfixes-dev:amd64.\n",
            "Preparing to unpack .../18-libxfixes-dev_1%3a6.0.0-1_amd64.deb ...\n",
            "Unpacking libxfixes-dev:amd64 (1:6.0.0-1) ...\n",
            "Selecting previously unselected package libxcursor-dev:amd64.\n",
            "Preparing to unpack .../19-libxcursor-dev_1%3a1.2.0-2build4_amd64.deb ...\n",
            "Unpacking libxcursor-dev:amd64 (1:1.2.0-2build4) ...\n",
            "Selecting previously unselected package libfox-1.6-dev.\n",
            "Preparing to unpack .../20-libfox-1.6-dev_1.6.57-1build1_amd64.deb ...\n",
            "Unpacking libfox-1.6-dev (1.6.57-1build1) ...\n",
            "Selecting previously unselected package libgl2ps-dev.\n",
            "Preparing to unpack .../21-libgl2ps-dev_1.4.2+dfsg1-2_amd64.deb ...\n",
            "Unpacking libgl2ps-dev (1.4.2+dfsg1-2) ...\n",
            "Selecting previously unselected package swig4.0.\n",
            "Preparing to unpack .../22-swig4.0_4.0.2-1ubuntu1_amd64.deb ...\n",
            "Unpacking swig4.0 (4.0.2-1ubuntu1) ...\n",
            "Selecting previously unselected package swig.\n",
            "Preparing to unpack .../23-swig_4.0.2-1ubuntu1_all.deb ...\n",
            "Unpacking swig (4.0.2-1ubuntu1) ...\n",
            "Setting up libglvnd-core-dev:amd64 (1.4.0-1) ...\n",
            "Setting up libtiff5-dev:amd64 (4.3.0-6ubuntu0.7) ...\n",
            "Setting up libgl2ps-dev (1.4.2+dfsg1-2) ...\n",
            "Setting up libcupsimage2:amd64 (2.4.1op1-1ubuntu4.7) ...\n",
            "Setting up libxfixes-dev:amd64 (1:6.0.0-1) ...\n",
            "Setting up libgles1:amd64 (1.4.0-1) ...\n",
            "Setting up libglx-dev:amd64 (1.4.0-1) ...\n",
            "Setting up libglu1-mesa:amd64 (9.0.2-1) ...\n",
            "Setting up libopengl-dev:amd64 (1.4.0-1) ...\n",
            "Setting up swig4.0 (4.0.2-1ubuntu1) ...\n",
            "Setting up libfox-1.6-0:amd64 (1.6.57-1build1) ...\n",
            "Setting up libgl-dev:amd64 (1.4.0-1) ...\n",
            "Setting up libcupsfilters1:amd64 (1.28.15-0ubuntu1.2) ...\n",
            "Setting up swig (4.0.2-1ubuntu1) ...\n",
            "Setting up libegl-dev:amd64 (1.4.0-1) ...\n",
            "Setting up libxcursor-dev:amd64 (1:1.2.0-2build4) ...\n",
            "Setting up libcupsfilters-dev:amd64 (1.28.15-0ubuntu1.2) ...\n",
            "Setting up libglu1-mesa-dev:amd64 (9.0.2-1) ...\n",
            "Setting up libgles-dev:amd64 (1.4.0-1) ...\n",
            "Setting up libglvnd-dev:amd64 (1.4.0-1) ...\n",
            "Setting up libgl1-mesa-dev:amd64 (23.0.4-0ubuntu1~22.04.1) ...\n",
            "Setting up libcupsimage2-dev:amd64 (2.4.1op1-1ubuntu4.7) ...\n",
            "Setting up libcups2-dev:amd64 (2.4.1op1-1ubuntu4.7) ...\n",
            "Setting up libfox-1.6-dev (1.6.57-1build1) ...\n",
            "update-alternatives: using /usr/bin/fox-config-1.6 to provide /usr/bin/fox-config (fox-config) in auto mode\n",
            "update-alternatives: using /usr/bin/reswrap-1.6 to provide /usr/bin/reswrap (reswrap) in auto mode\n",
            "Processing triggers for libc-bin (2.35-0ubuntu3.4) ...\n",
            "/sbin/ldconfig.real: /usr/local/lib/libtbbbind_2_0.so.3 is not a symbolic link\n",
            "\n",
            "/sbin/ldconfig.real: /usr/local/lib/libtbbbind.so.3 is not a symbolic link\n",
            "\n",
            "/sbin/ldconfig.real: /usr/local/lib/libtbbmalloc.so.2 is not a symbolic link\n",
            "\n",
            "/sbin/ldconfig.real: /usr/local/lib/libtbb.so.12 is not a symbolic link\n",
            "\n",
            "/sbin/ldconfig.real: /usr/local/lib/libtbbbind_2_5.so.3 is not a symbolic link\n",
            "\n",
            "/sbin/ldconfig.real: /usr/local/lib/libtbbmalloc_proxy.so.2 is not a symbolic link\n",
            "\n",
            "Processing triggers for man-db (2.10.2-1) ...\n"
          ]
        }
      ]
    },
    {
      "cell_type": "code",
      "execution_count": 17,
      "metadata": {
        "colab": {
          "base_uri": "https://localhost:8080/"
        },
        "id": "_v-y6PB3TDdf",
        "outputId": "2246e31d-315c-48da-d0f4-96f52fbf672b"
      },
      "outputs": [
        {
          "output_type": "stream",
          "name": "stdout",
          "text": [
            "/content/DaRL/LibSignal/sumo\n"
          ]
        }
      ],
      "source": [
        "import os\n",
        "import sys\n",
        "os.environ['SUMO_HOME'] = \"/content/DaRL/LibSignal/sumo\"\n",
        "print(os.getenv('SUMO_HOME'))"
      ]
    },
    {
      "cell_type": "code",
      "source": [
        "!mkdir sumo/build/cmake-build && cd sumo/build/cmake-build"
      ],
      "metadata": {
        "colab": {
          "base_uri": "https://localhost:8080/"
        },
        "id": "Yka2Vc4s0Usj",
        "outputId": "08aed580-7038-4f8e-f87d-a2dc97c6a4cf"
      },
      "execution_count": 18,
      "outputs": [
        {
          "output_type": "stream",
          "name": "stdout",
          "text": [
            "mkdir: cannot create directory ‘sumo/build/cmake-build’: No such file or directory\n"
          ]
        }
      ]
    },
    {
      "cell_type": "code",
      "source": [
        "!cmake ../.."
      ],
      "metadata": {
        "colab": {
          "base_uri": "https://localhost:8080/"
        },
        "id": "bkaj_3oI0n9k",
        "outputId": "e367f963-86b3-4b05-e5f5-2516dfbd950a"
      },
      "execution_count": 19,
      "outputs": [
        {
          "output_type": "stream",
          "name": "stdout",
          "text": [
            "\u001b[33mCMake Warning:\n",
            "  Ignoring extra path from command line:\n",
            "\n",
            "   \"../..\"\n",
            "\n",
            "\u001b[0m\n",
            "\u001b[0mCMake Error: The source directory \"/content\" does not appear to contain CMakeLists.txt.\n",
            "Specify --help for usage, or press the help button on the CMake GUI.\u001b[0m\n"
          ]
        }
      ]
    },
    {
      "cell_type": "code",
      "source": [
        "!sudo apt install python3.10-venv"
      ],
      "metadata": {
        "colab": {
          "base_uri": "https://localhost:8080/"
        },
        "id": "Fi1I7HLP1amK",
        "outputId": "55a08c6b-4100-48d0-bc3f-d977f63ca8b8"
      },
      "execution_count": 20,
      "outputs": [
        {
          "output_type": "stream",
          "name": "stdout",
          "text": [
            "Reading package lists... Done\n",
            "Building dependency tree... Done\n",
            "Reading state information... Done\n",
            "The following additional packages will be installed:\n",
            "  python3-pip-whl python3-setuptools-whl\n",
            "The following NEW packages will be installed:\n",
            "  python3-pip-whl python3-setuptools-whl python3.10-venv\n",
            "0 upgraded, 3 newly installed, 0 to remove and 29 not upgraded.\n",
            "Need to get 2,473 kB of archives.\n",
            "After this operation, 2,884 kB of additional disk space will be used.\n",
            "Get:1 http://archive.ubuntu.com/ubuntu jammy-updates/universe amd64 python3-pip-whl all 22.0.2+dfsg-1ubuntu0.4 [1,680 kB]\n",
            "Get:2 http://archive.ubuntu.com/ubuntu jammy-updates/universe amd64 python3-setuptools-whl all 59.6.0-1.2ubuntu0.22.04.1 [788 kB]\n",
            "Get:3 http://archive.ubuntu.com/ubuntu jammy-updates/universe amd64 python3.10-venv amd64 3.10.12-1~22.04.3 [5,716 B]\n",
            "Fetched 2,473 kB in 0s (7,695 kB/s)\n",
            "debconf: unable to initialize frontend: Dialog\n",
            "debconf: (No usable dialog-like program is installed, so the dialog based frontend cannot be used. at /usr/share/perl5/Debconf/FrontEnd/Dialog.pm line 78, <> line 3.)\n",
            "debconf: falling back to frontend: Readline\n",
            "debconf: unable to initialize frontend: Readline\n",
            "debconf: (This frontend requires a controlling tty.)\n",
            "debconf: falling back to frontend: Teletype\n",
            "dpkg-preconfigure: unable to re-open stdin: \n",
            "Selecting previously unselected package python3-pip-whl.\n",
            "(Reading database ... 122190 files and directories currently installed.)\n",
            "Preparing to unpack .../python3-pip-whl_22.0.2+dfsg-1ubuntu0.4_all.deb ...\n",
            "Unpacking python3-pip-whl (22.0.2+dfsg-1ubuntu0.4) ...\n",
            "Selecting previously unselected package python3-setuptools-whl.\n",
            "Preparing to unpack .../python3-setuptools-whl_59.6.0-1.2ubuntu0.22.04.1_all.deb ...\n",
            "Unpacking python3-setuptools-whl (59.6.0-1.2ubuntu0.22.04.1) ...\n",
            "Selecting previously unselected package python3.10-venv.\n",
            "Preparing to unpack .../python3.10-venv_3.10.12-1~22.04.3_amd64.deb ...\n",
            "Unpacking python3.10-venv (3.10.12-1~22.04.3) ...\n",
            "Setting up python3-setuptools-whl (59.6.0-1.2ubuntu0.22.04.1) ...\n",
            "Setting up python3-pip-whl (22.0.2+dfsg-1ubuntu0.4) ...\n",
            "Setting up python3.10-venv (3.10.12-1~22.04.3) ...\n"
          ]
        }
      ]
    },
    {
      "cell_type": "code",
      "source": [
        "!make -j$(nproc)"
      ],
      "metadata": {
        "colab": {
          "base_uri": "https://localhost:8080/"
        },
        "id": "KucCZobcyeey",
        "outputId": "d930785b-fd89-4417-9f71-5795996d3423"
      },
      "execution_count": 21,
      "outputs": [
        {
          "output_type": "stream",
          "name": "stdout",
          "text": [
            "make: *** No targets specified and no makefile found.  Stop.\n"
          ]
        }
      ]
    },
    {
      "cell_type": "code",
      "execution_count": 22,
      "metadata": {
        "colab": {
          "base_uri": "https://localhost:8080/"
        },
        "id": "jV9hR3e2Xal-",
        "outputId": "e645717f-684f-4cc9-edc9-5f923287c0a9"
      },
      "outputs": [
        {
          "output_type": "stream",
          "name": "stdout",
          "text": [
            "/env/python\n"
          ]
        }
      ],
      "source": [
        "!echo $PYTHONPATH"
      ]
    },
    {
      "cell_type": "code",
      "execution_count": 23,
      "metadata": {
        "colab": {
          "base_uri": "https://localhost:8080/"
        },
        "id": "luRK-W44X3FT",
        "outputId": "8af02b1b-1b0f-47dc-d639-48b9d74848c0"
      },
      "outputs": [
        {
          "output_type": "stream",
          "name": "stdout",
          "text": [
            "/content/DaRL/LibSignal/sumo/tools\n"
          ]
        }
      ],
      "source": [
        "import os\n",
        "import sys\n",
        "\n",
        "os.environ['PYTHONPATH'] = os.path.join(os.environ['SUMO_HOME'], 'tools')\n",
        "sys.path.append('/content/DaRL/LibSignal/sumo/tools')\n",
        "print(os.getenv('PYTHONPATH'))"
      ]
    },
    {
      "cell_type": "code",
      "execution_count": 24,
      "metadata": {
        "colab": {
          "base_uri": "https://localhost:8080/"
        },
        "id": "Cx8TLNvMofg6",
        "outputId": "16662b44-4e2d-4d38-ef51-6b2f37665cb9"
      },
      "outputs": [
        {
          "output_type": "stream",
          "name": "stdout",
          "text": [
            "Collecting libsumo\n",
            "  Downloading libsumo-1.19.0-cp310-cp310-manylinux_2_17_x86_64.manylinux2014_x86_64.whl (28.8 MB)\n",
            "\u001b[2K     \u001b[90m━━━━━━━━━━━━━━━━━━━━━━━━━━━━━━━━━━━━━━━━\u001b[0m \u001b[32m28.8/28.8 MB\u001b[0m \u001b[31m19.8 MB/s\u001b[0m eta \u001b[36m0:00:00\u001b[0m\n",
            "\u001b[?25hCollecting traci>=1.19.0 (from libsumo)\n",
            "  Downloading traci-1.19.0-py3-none-any.whl (124 kB)\n",
            "\u001b[2K     \u001b[90m━━━━━━━━━━━━━━━━━━━━━━━━━━━━━━━━━━━━━━━━\u001b[0m \u001b[32m124.5/124.5 kB\u001b[0m \u001b[31m17.3 MB/s\u001b[0m eta \u001b[36m0:00:00\u001b[0m\n",
            "\u001b[?25hCollecting sumolib>=1.19.0 (from traci>=1.19.0->libsumo)\n",
            "  Downloading sumolib-1.19.0-py3-none-any.whl (148 kB)\n",
            "\u001b[2K     \u001b[90m━━━━━━━━━━━━━━━━━━━━━━━━━━━━━━━━━━━━━━━━\u001b[0m \u001b[32m148.8/148.8 kB\u001b[0m \u001b[31m22.6 MB/s\u001b[0m eta \u001b[36m0:00:00\u001b[0m\n",
            "\u001b[?25hInstalling collected packages: sumolib, traci, libsumo\n",
            "Successfully installed libsumo-1.19.0 sumolib-1.19.0 traci-1.19.0\n"
          ]
        }
      ],
      "source": [
        "!pip install libsumo"
      ]
    },
    {
      "cell_type": "code",
      "execution_count": 25,
      "metadata": {
        "id": "VNnYW3vPb7u-"
      },
      "outputs": [],
      "source": [
        "import libsumo\n",
        "import traci"
      ]
    },
    {
      "cell_type": "code",
      "execution_count": 26,
      "metadata": {
        "colab": {
          "base_uri": "https://localhost:8080/"
        },
        "id": "A3h4X4Joc6oA",
        "outputId": "9619f0d3-932a-41aa-e172-aa9fe65ddc7c"
      },
      "outputs": [
        {
          "output_type": "stream",
          "name": "stdout",
          "text": [
            "Looking in indexes: https://pypi.org/simple, https://download.pytorch.org/whl/cu113\n",
            "Requirement already satisfied: torch in /usr/local/lib/python3.10/dist-packages (2.1.0+cu118)\n",
            "Requirement already satisfied: torchvision in /usr/local/lib/python3.10/dist-packages (0.16.0+cu118)\n",
            "Requirement already satisfied: torchaudio in /usr/local/lib/python3.10/dist-packages (2.1.0+cu118)\n",
            "Requirement already satisfied: filelock in /usr/local/lib/python3.10/dist-packages (from torch) (3.13.1)\n",
            "Requirement already satisfied: typing-extensions in /usr/local/lib/python3.10/dist-packages (from torch) (4.5.0)\n",
            "Requirement already satisfied: sympy in /usr/local/lib/python3.10/dist-packages (from torch) (1.10.1)\n",
            "Requirement already satisfied: networkx in /usr/local/lib/python3.10/dist-packages (from torch) (3.2.1)\n",
            "Requirement already satisfied: jinja2 in /usr/local/lib/python3.10/dist-packages (from torch) (3.1.2)\n",
            "Requirement already satisfied: fsspec in /usr/local/lib/python3.10/dist-packages (from torch) (2023.6.0)\n",
            "Requirement already satisfied: triton==2.1.0 in /usr/local/lib/python3.10/dist-packages (from torch) (2.1.0)\n",
            "Requirement already satisfied: numpy in /usr/local/lib/python3.10/dist-packages (from torchvision) (1.21.5)\n",
            "Requirement already satisfied: requests in /usr/local/lib/python3.10/dist-packages (from torchvision) (2.31.0)\n",
            "Requirement already satisfied: pillow!=8.3.*,>=5.3.0 in /usr/local/lib/python3.10/dist-packages (from torchvision) (9.4.0)\n",
            "Requirement already satisfied: MarkupSafe>=2.0 in /usr/local/lib/python3.10/dist-packages (from jinja2->torch) (2.1.3)\n",
            "Requirement already satisfied: charset-normalizer<4,>=2 in /usr/local/lib/python3.10/dist-packages (from requests->torchvision) (3.3.2)\n",
            "Requirement already satisfied: idna<4,>=2.5 in /usr/local/lib/python3.10/dist-packages (from requests->torchvision) (3.6)\n",
            "Requirement already satisfied: urllib3<3,>=1.21.1 in /usr/local/lib/python3.10/dist-packages (from requests->torchvision) (2.0.7)\n",
            "Requirement already satisfied: certifi>=2017.4.17 in /usr/local/lib/python3.10/dist-packages (from requests->torchvision) (2023.11.17)\n",
            "Requirement already satisfied: mpmath>=0.19 in /usr/local/lib/python3.10/dist-packages (from sympy->torch) (1.2.1)\n"
          ]
        }
      ],
      "source": [
        "!pip install torch torchvision torchaudio --extra-index-url https://download.pytorch.org/whl/cu113"
      ]
    },
    {
      "cell_type": "markdown",
      "metadata": {
        "id": "8QmPmN5EBqfM"
      },
      "source": [
        "Note: For SUMO, we recommend users create the environment locally."
      ]
    },
    {
      "cell_type": "code",
      "execution_count": 27,
      "metadata": {
        "colab": {
          "base_uri": "https://localhost:8080/"
        },
        "id": "FO7IXHWNpwYO",
        "outputId": "de1627a9-fd77-4bc1-d518-613553ea81de"
      },
      "outputs": [
        {
          "output_type": "stream",
          "name": "stdout",
          "text": [
            "Looking in links: https://data.pyg.org/whl/torch-2.1.0+cu118.html\n",
            "Collecting torch-scatter\n",
            "  Downloading https://data.pyg.org/whl/torch-2.1.0%2Bcu118/torch_scatter-2.1.2%2Bpt21cu118-cp310-cp310-linux_x86_64.whl (10.2 MB)\n",
            "\u001b[2K     \u001b[90m━━━━━━━━━━━━━━━━━━━━━━━━━━━━━━━━━━━━━━━━\u001b[0m \u001b[32m10.2/10.2 MB\u001b[0m \u001b[31m75.7 MB/s\u001b[0m eta \u001b[36m0:00:00\u001b[0m\n",
            "\u001b[?25hCollecting torch-sparse\n",
            "  Downloading https://data.pyg.org/whl/torch-2.1.0%2Bcu118/torch_sparse-0.6.18%2Bpt21cu118-cp310-cp310-linux_x86_64.whl (4.9 MB)\n",
            "\u001b[2K     \u001b[90m━━━━━━━━━━━━━━━━━━━━━━━━━━━━━━━━━━━━━━━━\u001b[0m \u001b[32m4.9/4.9 MB\u001b[0m \u001b[31m90.2 MB/s\u001b[0m eta \u001b[36m0:00:00\u001b[0m\n",
            "\u001b[?25hCollecting torch-cluster\n",
            "  Downloading https://data.pyg.org/whl/torch-2.1.0%2Bcu118/torch_cluster-1.6.3%2Bpt21cu118-cp310-cp310-linux_x86_64.whl (3.3 MB)\n",
            "\u001b[2K     \u001b[90m━━━━━━━━━━━━━━━━━━━━━━━━━━━━━━━━━━━━━━━━\u001b[0m \u001b[32m3.3/3.3 MB\u001b[0m \u001b[31m90.3 MB/s\u001b[0m eta \u001b[36m0:00:00\u001b[0m\n",
            "\u001b[?25hCollecting torch-spline-conv\n",
            "  Downloading https://data.pyg.org/whl/torch-2.1.0%2Bcu118/torch_spline_conv-1.2.2%2Bpt21cu118-cp310-cp310-linux_x86_64.whl (887 kB)\n",
            "\u001b[2K     \u001b[90m━━━━━━━━━━━━━━━━━━━━━━━━━━━━━━━━━━━━━━━━\u001b[0m \u001b[32m887.8/887.8 kB\u001b[0m \u001b[31m62.2 MB/s\u001b[0m eta \u001b[36m0:00:00\u001b[0m\n",
            "\u001b[?25hCollecting torch-geometric\n",
            "  Downloading torch_geometric-2.4.0-py3-none-any.whl (1.0 MB)\n",
            "\u001b[2K     \u001b[90m━━━━━━━━━━━━━━━━━━━━━━━━━━━━━━━━━━━━━━━━\u001b[0m \u001b[32m1.0/1.0 MB\u001b[0m \u001b[31m13.6 MB/s\u001b[0m eta \u001b[36m0:00:00\u001b[0m\n",
            "\u001b[?25hRequirement already satisfied: scipy in /usr/local/lib/python3.10/dist-packages (from torch-sparse) (1.11.4)\n",
            "Requirement already satisfied: tqdm in /usr/local/lib/python3.10/dist-packages (from torch-geometric) (4.66.1)\n",
            "Requirement already satisfied: numpy in /usr/local/lib/python3.10/dist-packages (from torch-geometric) (1.21.5)\n",
            "Requirement already satisfied: jinja2 in /usr/local/lib/python3.10/dist-packages (from torch-geometric) (3.1.2)\n",
            "Requirement already satisfied: requests in /usr/local/lib/python3.10/dist-packages (from torch-geometric) (2.31.0)\n",
            "Requirement already satisfied: pyparsing in /usr/local/lib/python3.10/dist-packages (from torch-geometric) (3.1.1)\n",
            "Requirement already satisfied: scikit-learn in /usr/local/lib/python3.10/dist-packages (from torch-geometric) (1.2.2)\n",
            "Requirement already satisfied: psutil>=5.8.0 in /usr/local/lib/python3.10/dist-packages (from torch-geometric) (5.9.5)\n",
            "Requirement already satisfied: MarkupSafe>=2.0 in /usr/local/lib/python3.10/dist-packages (from jinja2->torch-geometric) (2.1.3)\n",
            "Requirement already satisfied: charset-normalizer<4,>=2 in /usr/local/lib/python3.10/dist-packages (from requests->torch-geometric) (3.3.2)\n",
            "Requirement already satisfied: idna<4,>=2.5 in /usr/local/lib/python3.10/dist-packages (from requests->torch-geometric) (3.6)\n",
            "Requirement already satisfied: urllib3<3,>=1.21.1 in /usr/local/lib/python3.10/dist-packages (from requests->torch-geometric) (2.0.7)\n",
            "Requirement already satisfied: certifi>=2017.4.17 in /usr/local/lib/python3.10/dist-packages (from requests->torch-geometric) (2023.11.17)\n",
            "Requirement already satisfied: joblib>=1.1.1 in /usr/local/lib/python3.10/dist-packages (from scikit-learn->torch-geometric) (1.3.2)\n",
            "Requirement already satisfied: threadpoolctl>=2.0.0 in /usr/local/lib/python3.10/dist-packages (from scikit-learn->torch-geometric) (3.2.0)\n",
            "Collecting numpy (from torch-geometric)\n",
            "  Downloading numpy-1.26.2-cp310-cp310-manylinux_2_17_x86_64.manylinux2014_x86_64.whl (18.2 MB)\n",
            "\u001b[2K     \u001b[90m━━━━━━━━━━━━━━━━━━━━━━━━━━━━━━━━━━━━━━━━\u001b[0m \u001b[32m18.2/18.2 MB\u001b[0m \u001b[31m48.5 MB/s\u001b[0m eta \u001b[36m0:00:00\u001b[0m\n",
            "\u001b[?25hInstalling collected packages: torch-spline-conv, torch-scatter, numpy, torch-sparse, torch-cluster, torch-geometric\n",
            "  Attempting uninstall: numpy\n",
            "    Found existing installation: numpy 1.21.5\n",
            "    Uninstalling numpy-1.21.5:\n",
            "      Successfully uninstalled numpy-1.21.5\n",
            "\u001b[31mERROR: pip's dependency resolver does not currently take into account all the packages that are installed. This behaviour is the source of the following dependency conflicts.\n",
            "lida 0.0.10 requires fastapi, which is not installed.\n",
            "lida 0.0.10 requires kaleido, which is not installed.\n",
            "lida 0.0.10 requires python-multipart, which is not installed.\n",
            "lida 0.0.10 requires uvicorn, which is not installed.\n",
            "cupy-cuda11x 11.0.0 requires numpy<1.26,>=1.20, but you have numpy 1.26.2 which is incompatible.\n",
            "dopamine-rl 4.0.6 requires gym<=0.25.2, but you have gym 0.26.2 which is incompatible.\u001b[0m\u001b[31m\n",
            "\u001b[0mSuccessfully installed numpy-1.26.2 torch-cluster-1.6.3+pt21cu118 torch-geometric-2.4.0 torch-scatter-2.1.2+pt21cu118 torch-sparse-0.6.18+pt21cu118 torch-spline-conv-1.2.2+pt21cu118\n"
          ]
        }
      ],
      "source": [
        "!pip install torch-scatter torch-sparse torch-cluster torch-spline-conv torch-geometric -f https://data.pyg.org/whl/torch-2.1.0+cu118.html\n"
      ]
    },
    {
      "cell_type": "markdown",
      "metadata": {
        "id": "uvhJE6Ug0XpK"
      },
      "source": [
        "## Install Dependencies"
      ]
    },
    {
      "cell_type": "code",
      "execution_count": 28,
      "metadata": {
        "colab": {
          "base_uri": "https://localhost:8080/"
        },
        "id": "vam80zWJ04CZ",
        "outputId": "fc6640af-4252-49cd-886d-8276176b1306"
      },
      "outputs": [
        {
          "output_type": "stream",
          "name": "stdout",
          "text": [
            "Collecting pfrl\n",
            "  Downloading pfrl-0.4.0.tar.gz (112 kB)\n",
            "\u001b[?25l     \u001b[90m━━━━━━━━━━━━━━━━━━━━━━━━━━━━━━━━━━━━━━━━\u001b[0m \u001b[32m0.0/112.6 kB\u001b[0m \u001b[31m?\u001b[0m eta \u001b[36m-:--:--\u001b[0m\r\u001b[2K     \u001b[91m━━━━━━━━━━━━━━━━━━━━━\u001b[0m\u001b[91m╸\u001b[0m\u001b[90m━━━━━━━━━━━━━━━━━━\u001b[0m \u001b[32m61.4/112.6 kB\u001b[0m \u001b[31m1.6 MB/s\u001b[0m eta \u001b[36m0:00:01\u001b[0m\r\u001b[2K     \u001b[90m━━━━━━━━━━━━━━━━━━━━━━━━━━━━━━━━━━━━━━━━\u001b[0m \u001b[32m112.6/112.6 kB\u001b[0m \u001b[31m2.1 MB/s\u001b[0m eta \u001b[36m0:00:00\u001b[0m\n",
            "\u001b[?25h  Preparing metadata (setup.py) ... \u001b[?25l\u001b[?25hdone\n",
            "Requirement already satisfied: torch>=1.3.0 in /usr/local/lib/python3.10/dist-packages (from pfrl) (2.1.0+cu118)\n",
            "Requirement already satisfied: gym>=0.9.7 in /usr/local/lib/python3.10/dist-packages (from pfrl) (0.26.2)\n",
            "Requirement already satisfied: numpy>=1.10.4 in /usr/local/lib/python3.10/dist-packages (from pfrl) (1.26.2)\n",
            "Requirement already satisfied: pillow in /usr/local/lib/python3.10/dist-packages (from pfrl) (9.4.0)\n",
            "Requirement already satisfied: filelock in /usr/local/lib/python3.10/dist-packages (from pfrl) (3.13.1)\n",
            "Requirement already satisfied: cloudpickle>=1.2.0 in /usr/local/lib/python3.10/dist-packages (from gym>=0.9.7->pfrl) (2.2.1)\n",
            "Requirement already satisfied: gym-notices>=0.0.4 in /usr/local/lib/python3.10/dist-packages (from gym>=0.9.7->pfrl) (0.0.8)\n",
            "Requirement already satisfied: typing-extensions in /usr/local/lib/python3.10/dist-packages (from torch>=1.3.0->pfrl) (4.5.0)\n",
            "Requirement already satisfied: sympy in /usr/local/lib/python3.10/dist-packages (from torch>=1.3.0->pfrl) (1.10.1)\n",
            "Requirement already satisfied: networkx in /usr/local/lib/python3.10/dist-packages (from torch>=1.3.0->pfrl) (3.2.1)\n",
            "Requirement already satisfied: jinja2 in /usr/local/lib/python3.10/dist-packages (from torch>=1.3.0->pfrl) (3.1.2)\n",
            "Requirement already satisfied: fsspec in /usr/local/lib/python3.10/dist-packages (from torch>=1.3.0->pfrl) (2023.6.0)\n",
            "Requirement already satisfied: triton==2.1.0 in /usr/local/lib/python3.10/dist-packages (from torch>=1.3.0->pfrl) (2.1.0)\n",
            "Requirement already satisfied: MarkupSafe>=2.0 in /usr/local/lib/python3.10/dist-packages (from jinja2->torch>=1.3.0->pfrl) (2.1.3)\n",
            "Requirement already satisfied: mpmath>=0.19 in /usr/local/lib/python3.10/dist-packages (from sympy->torch>=1.3.0->pfrl) (1.2.1)\n",
            "Building wheels for collected packages: pfrl\n",
            "  Building wheel for pfrl (setup.py) ... \u001b[?25l\u001b[?25hdone\n",
            "  Created wheel for pfrl: filename=pfrl-0.4.0-py3-none-any.whl size=155461 sha256=710fd3c8eb9a46eb3b8aff2588017526d4533c2666cc54ec327458826020ab79\n",
            "  Stored in directory: /root/.cache/pip/wheels/22/4a/0f/a87cd1ae925086eb3a1b8759f620fcf48e47939fb082946c3b\n",
            "Successfully built pfrl\n",
            "Installing collected packages: pfrl\n",
            "Successfully installed pfrl-0.4.0\n"
          ]
        }
      ],
      "source": [
        "!pip install pfrl"
      ]
    },
    {
      "cell_type": "code",
      "execution_count": null,
      "metadata": {
        "id": "eWYZPZagM6os"
      },
      "outputs": [],
      "source": [
        "!python common/converter.py"
      ]
    },
    {
      "cell_type": "code",
      "execution_count": null,
      "metadata": {
        "colab": {
          "base_uri": "https://localhost:8080/"
        },
        "id": "86kCuiWG1Iaw",
        "outputId": "9c80e0ae-b630-43fb-8b2b-1e268eb4a58e"
      },
      "outputs": [
        {
          "output_type": "stream",
          "name": "stdout",
          "text": [
            "building world...\n",
            "creating intersections...\n",
            "intersections created.\n",
            "parsing roads...\n",
            "roads parsed.\n",
            "world built.\n",
            "DQNNet(\n",
            "  (dense_1): Linear(in_features=16, out_features=20, bias=True)\n",
            "  (dense_2): Linear(in_features=20, out_features=20, bias=True)\n",
            "  (dense_3): Linear(in_features=20, out_features=8, bias=True)\n",
            ")\n",
            "2023-12-08 19:59:03 (INFO): step:3600/3600, q_loss:0, rewards:-171.78368055555555, queue:114.6361111111111, delay:0.6623167673746745, throughput:1101\n",
            "2023-12-08 19:59:03 (INFO): episode:0/200, real avg travel time:877.8777832756061\n",
            "2023-12-08 19:59:09 (INFO): Test step:0/200, travel time :1452.5823849579417, rewards:-296.8787326388889, queue:198.2138888888889, delay:0.7450636969672308, throughput:422\n",
            "2023-12-08 19:59:14 (INFO): step:3600/3600, q_loss:0, rewards:-171.77419704861111, queue:114.83888888888889, delay:0.6296775817871094, throughput:1047\n",
            "2023-12-08 19:59:14 (INFO): episode:1/200, real avg travel time:906.7872340425532\n",
            "2023-12-08 19:59:19 (INFO): Test step:1/200, travel time :1452.5823849579417, rewards:-296.8787326388889, queue:198.2138888888889, delay:0.7450636969672308, throughput:422\n",
            "2023-12-08 19:59:23 (INFO): step:3600/3600, q_loss:3588.40869140625, rewards:-173.80711805555555, queue:116.14444444444445, delay:0.6694224887424045, throughput:1158\n",
            "2023-12-08 19:59:23 (INFO): episode:2/200, real avg travel time:823.5497278574962\n",
            "2023-12-08 19:59:29 (INFO): Test step:2/200, travel time :1420.272142503711, rewards:-295.17999131944447, queue:197.06666666666666, delay:0.7438033209906684, throughput:442\n",
            "2023-12-08 19:59:36 (INFO): step:3600/3600, q_loss:1751.8646240234375, rewards:-222.76881510416666, queue:148.7277777777778, delay:0.7221744961208767, throughput:1024\n",
            "2023-12-08 19:59:36 (INFO): episode:3/200, real avg travel time:1227.9510143493321\n",
            "2023-12-08 19:59:40 (INFO): Test step:3/200, travel time :1051.2508659079663, rewards:-278.2649956597222, queue:185.8, delay:0.7478469000922309, throughput:848\n",
            "2023-12-08 19:59:47 (INFO): step:3600/3600, q_loss:318.3956298828125, rewards:-186.52549913194446, queue:124.58888888888889, delay:0.7835924784342448, throughput:1695\n",
            "2023-12-08 19:59:47 (INFO): episode:4/200, real avg travel time:440.0994557149926\n",
            "2023-12-08 19:59:53 (INFO): Test step:4/200, travel time :1051.2508659079663, rewards:-278.2649956597222, queue:185.8, delay:0.7478469000922309, throughput:848\n",
            "2023-12-08 19:59:59 (INFO): step:3600/3600, q_loss:496.8951416015625, rewards:-160.29421657986111, queue:106.95555555555555, delay:0.7630196465386285, throughput:1799\n",
            "2023-12-08 19:59:59 (INFO): episode:5/200, real avg travel time:292.1845620979713\n",
            "2023-12-08 20:00:05 (INFO): Test step:5/200, travel time :1167.0747154873825, rewards:-278.15833333333336, queue:185.725, delay:0.7411040412055121, throughput:645\n",
            "2023-12-08 20:00:11 (INFO): step:3600/3600, q_loss:563.2073364257812, rewards:-153.79168836805556, queue:102.53055555555555, delay:0.7494816250271268, throughput:1764\n",
            "2023-12-08 20:00:11 (INFO): episode:6/200, real avg travel time:272.1499257793172\n",
            "2023-12-08 20:00:16 (INFO): Test step:6/200, travel time :1051.2508659079663, rewards:-278.2649956597222, queue:185.8, delay:0.7478469000922309, throughput:848\n",
            "2023-12-08 20:00:23 (INFO): step:3600/3600, q_loss:573.4362182617188, rewards:-165.7475368923611, queue:110.56666666666666, delay:0.759287855360243, throughput:1796\n",
            "2023-12-08 20:00:23 (INFO): episode:7/200, real avg travel time:296.9579416130628\n",
            "2023-12-08 20:00:28 (INFO): Test step:7/200, travel time :1026.4423552696685, rewards:-270.25794270833336, queue:180.41666666666666, delay:0.7504865010579427, throughput:912\n",
            "2023-12-08 20:00:34 (INFO): step:3600/3600, q_loss:617.9642944335938, rewards:-179.4529296875, queue:119.74166666666666, delay:0.7825850592719183, throughput:1739\n",
            "2023-12-08 20:00:34 (INFO): episode:8/200, real avg travel time:321.29490351311233\n",
            "2023-12-08 20:00:39 (INFO): Test step:8/200, travel time :814.3438891637803, rewards:-216.0400607638889, queue:144.125, delay:0.6986985948350695, throughput:1119\n",
            "2023-12-08 20:00:46 (INFO): step:3600/3600, q_loss:626.5, rewards:-139.93499348958332, queue:93.23611111111111, delay:0.7493454827202691, throughput:1819\n",
            "2023-12-08 20:00:46 (INFO): episode:9/200, real avg travel time:248.64275111331025\n",
            "2023-12-08 20:00:51 (INFO): Test step:9/200, travel time :868.9747649678377, rewards:-263.82625868055555, queue:176.1611111111111, delay:0.7466210259331597, throughput:978\n",
            "2023-12-08 20:00:57 (INFO): step:3600/3600, q_loss:608.882080078125, rewards:-161.90374348958332, queue:108.05833333333334, delay:0.7417899237738715, throughput:1762\n",
            "2023-12-08 20:00:57 (INFO): episode:10/200, real avg travel time:289.7323107372588\n",
            "2023-12-08 20:01:04 (INFO): Test step:10/200, travel time :632.3656605640772, rewards:-208.0595703125, queue:138.84722222222223, delay:0.6849799686008029, throughput:1313\n",
            "2023-12-08 20:01:09 (INFO): step:3600/3600, q_loss:598.5674438476562, rewards:-174.16082899305556, queue:116.2, delay:0.7674383375379774, throughput:1766\n",
            "2023-12-08 20:01:09 (INFO): episode:11/200, real avg travel time:321.98812469074716\n",
            "2023-12-08 20:01:14 (INFO): Test step:11/200, travel time :1201.9257793171698, rewards:-275.3537326388889, queue:183.86388888888888, delay:0.7409746805826823, throughput:614\n",
            "2023-12-08 20:01:22 (INFO): step:3600/3600, q_loss:585.0119018554688, rewards:-158.89501953125, queue:105.90833333333333, delay:0.7576099819607205, throughput:1800\n",
            "2023-12-08 20:01:22 (INFO): episode:12/200, real avg travel time:263.2919346857991\n",
            "2023-12-08 20:01:26 (INFO): Test step:12/200, travel time :1056.0846115784266, rewards:-278.43706597222223, queue:185.90833333333333, delay:0.7481130811903212, throughput:858\n",
            "2023-12-08 20:01:33 (INFO): step:3600/3600, q_loss:593.00537109375, rewards:-161.79584418402777, queue:107.89722222222223, delay:0.7519954257541233, throughput:1803\n",
            "2023-12-08 20:01:33 (INFO): episode:13/200, real avg travel time:277.61504205838696\n",
            "2023-12-08 20:01:40 (INFO): Test step:13/200, travel time :363.0252350321623, rewards:-197.33832465277777, queue:131.52777777777777, delay:0.7727879842122396, throughput:1681\n",
            "2023-12-08 20:01:45 (INFO): step:3600/3600, q_loss:603.6251220703125, rewards:-149.78989800347222, queue:99.86111111111111, delay:0.770668453640408, throughput:1833\n",
            "2023-12-08 20:01:45 (INFO): episode:14/200, real avg travel time:264.33696190004946\n",
            "2023-12-08 20:01:49 (INFO): Test step:14/200, travel time :391.60366155368627, rewards:-195.55544704861111, queue:130.4638888888889, delay:0.768392350938585, throughput:1577\n",
            "2023-12-08 20:01:58 (INFO): step:3600/3600, q_loss:613.0081787109375, rewards:-142.25454644097223, queue:94.83333333333333, delay:0.7618414137098525, throughput:1803\n",
            "2023-12-08 20:01:58 (INFO): episode:15/200, real avg travel time:246.59178624443345\n",
            "2023-12-08 20:02:02 (INFO): Test step:15/200, travel time :383.9168728352301, rewards:-205.62699652777778, queue:137.09166666666667, delay:0.7748093499077691, throughput:1654\n",
            "2023-12-08 20:02:08 (INFO): step:3600/3600, q_loss:602.6451416015625, rewards:-137.3278754340278, queue:91.45555555555555, delay:0.7500251770019531, throughput:1838\n",
            "2023-12-08 20:02:08 (INFO): episode:16/200, real avg travel time:238.72538347352796\n",
            "2023-12-08 20:02:14 (INFO): Test step:16/200, travel time :571.4735279564572, rewards:-199.919921875, queue:133.33055555555555, delay:0.7206821017795139, throughput:1402\n",
            "2023-12-08 20:02:20 (INFO): step:3600/3600, q_loss:602.1157836914062, rewards:-160.91703559027778, queue:107.34444444444445, delay:0.788282945421007, throughput:1708\n",
            "2023-12-08 20:02:20 (INFO): episode:17/200, real avg travel time:301.17812963879265\n",
            "2023-12-08 20:02:24 (INFO): Test step:17/200, travel time :381.77189510143495, rewards:-206.7691189236111, queue:137.9361111111111, delay:0.7923020256890191, throughput:1646\n",
            "2023-12-08 20:02:31 (INFO): step:3600/3600, q_loss:571.7943725585938, rewards:-156.55496961805557, queue:104.56944444444444, delay:0.7880479600694444, throughput:1724\n",
            "2023-12-08 20:02:31 (INFO): episode:18/200, real avg travel time:364.95992083127163\n",
            "2023-12-08 20:02:36 (INFO): Test step:18/200, travel time :361.1672439386442, rewards:-192.24548611111112, queue:128.16666666666666, delay:0.8136856926812066, throughput:1693\n",
            "2023-12-08 20:02:41 (INFO): step:3600/3600, q_loss:556.321533203125, rewards:-146.6928927951389, queue:97.85277777777777, delay:0.7974136352539063, throughput:1790\n",
            "2023-12-08 20:02:41 (INFO): episode:19/200, real avg travel time:298.0766947055913\n",
            "2023-12-08 20:02:46 (INFO): Test step:19/200, travel time :872.6185056902524, rewards:-215.88409288194444, queue:143.99722222222223, delay:0.6826770782470704, throughput:1036\n",
            "2023-12-08 20:02:54 (INFO): step:3600/3600, q_loss:561.2169799804688, rewards:-139.44585503472223, queue:92.96111111111111, delay:0.782582261827257, throughput:1757\n",
            "2023-12-08 20:02:54 (INFO): episode:20/200, real avg travel time:309.1355764473033\n",
            "2023-12-08 20:02:59 (INFO): Test step:20/200, travel time :1497.093023255814, rewards:-292.3958333333333, queue:195.2861111111111, delay:0.7398105197482638, throughput:261\n",
            "2023-12-08 20:03:06 (INFO): step:3600/3600, q_loss:576.5892944335938, rewards:-153.78168402777777, queue:102.52777777777777, delay:0.7882937961154514, throughput:1769\n",
            "2023-12-08 20:03:06 (INFO): episode:21/200, real avg travel time:353.0227610094013\n",
            "2023-12-08 20:03:11 (INFO): Test step:21/200, travel time :546.4379020286987, rewards:-203.54789496527778, queue:135.76111111111112, delay:0.7692013210720486, throughput:1471\n",
            "2023-12-08 20:03:16 (INFO): step:3600/3600, q_loss:537.2559814453125, rewards:-130.70458984375, queue:87.125, delay:0.7919421725802951, throughput:1881\n",
            "2023-12-08 20:03:16 (INFO): episode:22/200, real avg travel time:233.6378030677882\n",
            "2023-12-08 20:03:22 (INFO): Test step:22/200, travel time :690.3923800098961, rewards:-224.5470486111111, queue:149.9138888888889, delay:0.7320118374294705, throughput:1242\n",
            "2023-12-08 20:03:28 (INFO): step:3600/3600, q_loss:545.7169189453125, rewards:-134.74088541666666, queue:89.84166666666667, delay:0.7928126017252605, throughput:1811\n",
            "2023-12-08 20:03:28 (INFO): episode:23/200, real avg travel time:244.8372093023256\n",
            "2023-12-08 20:03:32 (INFO): Test step:23/200, travel time :821.5299356754082, rewards:-214.7074435763889, queue:143.2138888888889, delay:0.6958510928683811, throughput:1066\n",
            "2023-12-08 20:03:39 (INFO): step:3600/3600, q_loss:544.0799560546875, rewards:-159.18495008680554, queue:106.10555555555555, delay:0.7901909722222222, throughput:1787\n",
            "2023-12-08 20:03:39 (INFO): episode:24/200, real avg travel time:312.2934190994557\n",
            "2023-12-08 20:03:44 (INFO): Test step:24/200, travel time :383.27412172191987, rewards:-206.20835503472222, queue:137.4638888888889, delay:0.7805468241373698, throughput:1651\n",
            "2023-12-08 20:03:50 (INFO): step:3600/3600, q_loss:553.4443359375, rewards:-146.50623914930554, queue:97.79166666666667, delay:0.774930911593967, throughput:1771\n",
            "2023-12-08 20:03:50 (INFO): episode:25/200, real avg travel time:261.9213260761999\n",
            "2023-12-08 20:03:55 (INFO): Test step:25/200, travel time :364.1855517070757, rewards:-198.49036458333333, queue:132.36944444444444, delay:0.7565443250868056, throughput:1672\n",
            "2023-12-08 20:04:03 (INFO): step:3600/3600, q_loss:576.6692504882812, rewards:-141.82368706597222, queue:94.52222222222223, delay:0.7481905619303385, throughput:1804\n",
            "2023-12-08 20:04:03 (INFO): episode:26/200, real avg travel time:249.43146956952003\n",
            "2023-12-08 20:04:07 (INFO): Test step:26/200, travel time :331.12023750618505, rewards:-175.70709635416668, queue:117.06111111111112, delay:0.7849096510145399, throughput:1707\n",
            "2023-12-08 20:04:12 (INFO): step:3600/3600, q_loss:548.2529907226562, rewards:-130.99580078125, queue:87.23333333333333, delay:0.7624053955078125, throughput:1851\n",
            "2023-12-08 20:04:12 (INFO): episode:27/200, real avg travel time:232.12765957446808\n",
            "2023-12-08 20:04:17 (INFO): Test step:27/200, travel time :343.19544779811974, rewards:-185.7220920138889, queue:123.82777777777778, delay:0.7308396233452691, throughput:1691\n",
            "2023-12-08 20:04:23 (INFO): step:3600/3600, q_loss:553.8025512695312, rewards:-142.28920355902778, queue:94.81666666666666, delay:0.7750369601779514, throughput:1851\n",
            "2023-12-08 20:04:23 (INFO): episode:28/200, real avg travel time:245.93023255813952\n",
            "2023-12-08 20:04:27 (INFO): Test step:28/200, travel time :330.56259277585355, rewards:-172.24915364583333, queue:114.82777777777778, delay:0.76447999742296, throughput:1710\n",
            "2023-12-08 20:04:34 (INFO): step:3600/3600, q_loss:532.1642456054688, rewards:-116.44622395833333, queue:77.52777777777777, delay:0.7349052429199219, throughput:1881\n",
            "2023-12-08 20:04:34 (INFO): episode:29/200, real avg travel time:204.6031667491341\n",
            "2023-12-08 20:04:39 (INFO): Test step:29/200, travel time :345.2617516081148, rewards:-175.52455512152778, queue:117.04722222222222, delay:0.7575123257107205, throughput:1725\n",
            "2023-12-08 20:04:45 (INFO): step:3600/3600, q_loss:513.410400390625, rewards:-126.18539496527778, queue:84.08055555555555, delay:0.7537409464518229, throughput:1855\n",
            "2023-12-08 20:04:45 (INFO): episode:30/200, real avg travel time:220.5997031172687\n",
            "2023-12-08 20:04:50 (INFO): Test step:30/200, travel time :398.2756061355764, rewards:-180.38960503472222, queue:120.225, delay:0.7110219319661458, throughput:1542\n",
            "2023-12-08 20:04:57 (INFO): step:3600/3600, q_loss:497.43609619140625, rewards:-137.13497178819443, queue:91.46666666666667, delay:0.7595601399739583, throughput:1835\n",
            "2023-12-08 20:04:57 (INFO): episode:31/200, real avg travel time:247.9955467590302\n",
            "2023-12-08 20:05:01 (INFO): Test step:31/200, travel time :260.1326076199901, rewards:-144.26333550347223, queue:96.15277777777777, delay:0.6906397501627605, throughput:1779\n",
            "2023-12-08 20:05:06 (INFO): step:3600/3600, q_loss:507.735595703125, rewards:-124.92291666666667, queue:83.35555555555555, delay:0.7260107252332899, throughput:1854\n",
            "2023-12-08 20:05:06 (INFO): episode:32/200, real avg travel time:224.09252845126176\n",
            "2023-12-08 20:05:12 (INFO): Test step:32/200, travel time :1032.786739238001, rewards:-258.9949652777778, queue:172.93333333333334, delay:0.7270775689019098, throughput:706\n",
            "2023-12-08 20:05:18 (INFO): step:3600/3600, q_loss:491.0667419433594, rewards:-108.84499782986111, queue:72.5111111111111, delay:0.7162630716959636, throughput:1885\n",
            "2023-12-08 20:05:18 (INFO): episode:33/200, real avg travel time:198.92874814448294\n",
            "2023-12-08 20:05:21 (INFO): Test step:33/200, travel time :277.6561108362197, rewards:-152.9445746527778, queue:101.98611111111111, delay:0.6853285895453559, throughput:1768\n",
            "2023-12-08 20:05:28 (INFO): step:3600/3600, q_loss:470.77691650390625, rewards:-121.87291666666667, queue:81.32222222222222, delay:0.7215392218695746, throughput:1860\n",
            "2023-12-08 20:05:28 (INFO): episode:34/200, real avg travel time:215.5042058386937\n",
            "2023-12-08 20:05:32 (INFO): Test step:34/200, travel time :420.99653636813457, rewards:-142.24120008680555, queue:94.79166666666667, delay:0.6422177208794488, throughput:1505\n",
            "2023-12-08 20:05:38 (INFO): step:3600/3600, q_loss:451.6546325683594, rewards:-89.70125868055555, queue:59.73888888888889, delay:0.7077193790011935, throughput:1874\n",
            "2023-12-08 20:05:38 (INFO): episode:35/200, real avg travel time:183.93122216724393\n",
            "2023-12-08 20:05:43 (INFO): Test step:35/200, travel time :553.1217219198417, rewards:-189.05462239583332, queue:126.08888888888889, delay:0.6877974616156683, throughput:1366\n",
            "2023-12-08 20:05:50 (INFO): step:3600/3600, q_loss:441.15277099609375, rewards:-93.06374782986111, queue:61.983333333333334, delay:0.6849943372938369, throughput:1863\n",
            "2023-12-08 20:05:50 (INFO): episode:36/200, real avg travel time:189.82780801583374\n",
            "2023-12-08 20:05:54 (INFO): Test step:36/200, travel time :449.6833250865908, rewards:-191.4787109375, queue:127.86111111111111, delay:0.7217389424641927, throughput:1504\n",
            "2023-12-08 20:05:59 (INFO): step:3600/3600, q_loss:421.7442626953125, rewards:-106.34252387152777, queue:70.8861111111111, delay:0.7078165690104167, throughput:1876\n",
            "2023-12-08 20:05:59 (INFO): episode:37/200, real avg travel time:212.68579910935182\n",
            "2023-12-08 20:06:04 (INFO): Test step:37/200, travel time :509.8485898070262, rewards:-192.52296006944445, queue:128.55277777777778, delay:0.7010491689046224, throughput:1444\n",
            "2023-12-08 20:06:10 (INFO): step:3600/3600, q_loss:411.610595703125, rewards:-129.87668185763889, queue:86.58333333333333, delay:0.710127936469184, throughput:1892\n",
            "2023-12-08 20:06:10 (INFO): episode:38/200, real avg travel time:224.17169717961406\n",
            "2023-12-08 20:06:14 (INFO): Test step:38/200, travel time :362.8352300841168, rewards:-151.6670681423611, queue:101.28055555555555, delay:0.7431115892198351, throughput:1699\n",
            "2023-12-08 20:06:21 (INFO): step:3600/3600, q_loss:397.2110290527344, rewards:-128.4571072048611, queue:85.7388888888889, delay:0.7231302897135417, throughput:1771\n",
            "2023-12-08 20:06:21 (INFO): episode:39/200, real avg travel time:291.1063829787234\n",
            "2023-12-08 20:06:26 (INFO): Test step:39/200, travel time :557.0549233052944, rewards:-208.95004340277777, queue:139.5638888888889, delay:0.7148815578884549, throughput:1310\n",
            "2023-12-08 20:06:31 (INFO): step:3600/3600, q_loss:395.49444580078125, rewards:-122.6287109375, queue:81.825, delay:0.7079778035481771, throughput:1863\n",
            "2023-12-08 20:06:31 (INFO): episode:40/200, real avg travel time:222.7585353785255\n",
            "2023-12-08 20:06:36 (INFO): Test step:40/200, travel time :185.53339930727364, rewards:-97.30252821180555, queue:64.79444444444445, delay:0.6998162163628472, throughput:1874\n",
            "2023-12-08 20:06:43 (INFO): step:3600/3600, q_loss:386.1075439453125, rewards:-111.81419270833334, queue:74.56388888888888, delay:0.7257757398817274, throughput:1892\n",
            "2023-12-08 20:06:43 (INFO): episode:41/200, real avg travel time:207.03711034141514\n",
            "2023-12-08 20:06:47 (INFO): Test step:41/200, travel time :350.56061355764473, rewards:-176.25377604166667, queue:117.54444444444445, delay:0.6948677910698785, throughput:1657\n",
            "2023-12-08 20:06:52 (INFO): step:3600/3600, q_loss:396.3905029296875, rewards:-107.48042534722222, queue:71.59722222222223, delay:0.7090577867296007, throughput:1874\n",
            "2023-12-08 20:06:52 (INFO): episode:42/200, real avg travel time:201.91241959426026\n",
            "2023-12-08 20:06:57 (INFO): Test step:42/200, travel time :366.33795150915387, rewards:-173.84125434027777, queue:115.93611111111112, delay:0.6803627438015408, throughput:1617\n",
            "2023-12-08 20:07:03 (INFO): step:3600/3600, q_loss:384.5824279785156, rewards:-86.30503472222222, queue:57.46111111111111, delay:0.7141873677571614, throughput:1925\n",
            "2023-12-08 20:07:03 (INFO): episode:43/200, real avg travel time:168.24492825333994\n",
            "2023-12-08 20:07:06 (INFO): Test step:43/200, travel time :293.30380999505195, rewards:-161.06578776041667, queue:107.41111111111111, delay:0.690663570827908, throughput:1744\n",
            "2023-12-08 20:07:12 (INFO): step:3600/3600, q_loss:371.5669250488281, rewards:-109.16751302083334, queue:72.75, delay:0.72282469007704, throughput:1896\n",
            "2023-12-08 20:07:12 (INFO): episode:44/200, real avg travel time:197.75754576942109\n",
            "2023-12-08 20:07:17 (INFO): Test step:44/200, travel time :396.46115784265214, rewards:-183.35876736111112, queue:122.3, delay:0.6937494489881727, throughput:1564\n",
            "2023-12-08 20:07:23 (INFO): step:3600/3600, q_loss:360.83587646484375, rewards:-91.06082899305555, queue:60.61944444444445, delay:0.7180727640787761, throughput:1919\n",
            "2023-12-08 20:07:23 (INFO): episode:45/200, real avg travel time:173.82533399307275\n",
            "2023-12-08 20:07:27 (INFO): Test step:45/200, travel time :238.52201880257297, rewards:-130.84581163194446, queue:87.13055555555556, delay:0.7020495096842448, throughput:1825\n",
            "2023-12-08 20:07:34 (INFO): step:3600/3600, q_loss:352.6896667480469, rewards:-102.17205946180556, queue:68.06111111111112, delay:0.7030896504720052, throughput:1879\n",
            "2023-12-08 20:07:34 (INFO): episode:46/200, real avg travel time:188.66452251360712\n",
            "2023-12-08 20:07:38 (INFO): Test step:46/200, travel time :522.7283523008412, rewards:-162.32165798611112, queue:108.28611111111111, delay:0.6883547041151259, throughput:1424\n",
            "2023-12-08 20:07:43 (INFO): step:3600/3600, q_loss:342.4735107421875, rewards:-100.91917317708334, queue:67.21944444444445, delay:0.7265102810329861, throughput:1915\n",
            "2023-12-08 20:07:43 (INFO): episode:47/200, real avg travel time:187.6580900544285\n",
            "2023-12-08 20:07:48 (INFO): Test step:47/200, travel time :352.88668975754575, rewards:-163.77337239583332, queue:109.34722222222223, delay:0.6803766886393229, throughput:1689\n",
            "2023-12-08 20:07:55 (INFO): step:3600/3600, q_loss:332.8362121582031, rewards:-121.76956380208334, queue:81.15, delay:0.7171478271484375, throughput:1869\n",
            "2023-12-08 20:07:55 (INFO): episode:48/200, real avg travel time:224.583374567046\n",
            "2023-12-08 20:07:58 (INFO): Test step:48/200, travel time :224.62246412666997, rewards:-112.80670572916667, queue:75.11666666666666, delay:0.6276996612548829, throughput:1839\n",
            "2023-12-08 20:08:03 (INFO): step:3600/3600, q_loss:316.9827880859375, rewards:-98.67999131944444, queue:65.75833333333334, delay:0.7169965108235677, throughput:1905\n",
            "2023-12-08 20:08:03 (INFO): episode:49/200, real avg travel time:185.0801583374567\n",
            "2023-12-08 20:08:08 (INFO): Test step:49/200, travel time :235.07026224641265, rewards:-122.93334418402777, queue:81.91944444444445, delay:0.6917877197265625, throughput:1826\n",
            "2023-12-08 20:08:14 (INFO): step:3600/3600, q_loss:296.990234375, rewards:-93.19419487847222, queue:62.019444444444446, delay:0.7094804551866319, throughput:1909\n",
            "2023-12-08 20:08:14 (INFO): episode:50/200, real avg travel time:178.94359228104898\n",
            "2023-12-08 20:08:18 (INFO): Test step:50/200, travel time :213.19693221177636, rewards:-103.62545572916666, queue:69.00555555555556, delay:0.7114366319444444, throughput:1828\n",
            "2023-12-08 20:08:24 (INFO): step:3600/3600, q_loss:303.5011291503906, rewards:-91.66376953125, queue:61.00833333333333, delay:0.7377516852484809, throughput:1928\n",
            "2023-12-08 20:08:24 (INFO): episode:51/200, real avg travel time:176.98515586343393\n",
            "2023-12-08 20:08:29 (INFO): Test step:51/200, travel time :492.475507174666, rewards:-159.04330512152777, queue:106.03055555555555, delay:0.6822660658094618, throughput:1441\n",
            "2023-12-08 20:08:34 (INFO): step:3600/3600, q_loss:315.26531982421875, rewards:-84.89874131944444, queue:56.55555555555556, delay:0.7193458557128907, throughput:1924\n",
            "2023-12-08 20:08:34 (INFO): episode:52/200, real avg travel time:166.4997525977239\n",
            "2023-12-08 20:08:38 (INFO): Test step:52/200, travel time :717.6823354774864, rewards:-220.21866319444445, queue:147.00833333333333, delay:0.7333716498480902, throughput:1209\n",
            "2023-12-08 20:08:45 (INFO): step:3600/3600, q_loss:304.59136962890625, rewards:-98.05832248263889, queue:65.32222222222222, delay:0.7260636223687066, throughput:1873\n",
            "2023-12-08 20:08:45 (INFO): episode:53/200, real avg travel time:211.37456704601684\n",
            "2023-12-08 20:08:49 (INFO): Test step:53/200, travel time :222.77684314695696, rewards:-114.62749565972223, queue:76.35, delay:0.6586886088053385, throughput:1848\n",
            "2023-12-08 20:08:54 (INFO): step:3600/3600, q_loss:300.3228454589844, rewards:-95.19164496527777, queue:63.44722222222222, delay:0.7040726131863064, throughput:1880\n",
            "2023-12-08 20:08:54 (INFO): episode:54/200, real avg travel time:179.85898070262246\n",
            "2023-12-08 20:08:58 (INFO): Test step:54/200, travel time :319.14002968827316, rewards:-155.80495876736111, queue:104.03055555555555, delay:0.6982944064670139, throughput:1738\n",
            "2023-12-08 20:09:05 (INFO): step:3600/3600, q_loss:313.7344665527344, rewards:-78.50498046875, queue:52.18333333333333, delay:0.7339023166232639, throughput:1927\n",
            "2023-12-08 20:09:05 (INFO): episode:55/200, real avg travel time:162.1538842157348\n",
            "2023-12-08 20:09:10 (INFO): Test step:55/200, travel time :359.09401286491834, rewards:-159.8529513888889, queue:106.69722222222222, delay:0.6628423902723525, throughput:1658\n",
            "2023-12-08 20:09:15 (INFO): step:3600/3600, q_loss:308.4599914550781, rewards:-84.50541449652778, queue:56.26111111111111, delay:0.7106528811984592, throughput:1915\n",
            "2023-12-08 20:09:15 (INFO): episode:56/200, real avg travel time:171.22414646214744\n",
            "2023-12-08 20:09:21 (INFO): Test step:56/200, travel time :744.7456704601682, rewards:-241.76358506944445, queue:161.38055555555556, delay:0.7245513068305122, throughput:1120\n",
            "2023-12-08 20:09:26 (INFO): step:3600/3600, q_loss:319.8144226074219, rewards:-98.89211154513889, queue:65.90555555555555, delay:0.7178776211208767, throughput:1908\n",
            "2023-12-08 20:09:26 (INFO): episode:57/200, real avg travel time:188.44334487877288\n",
            "2023-12-08 20:09:30 (INFO): Test step:57/200, travel time :172.96437407224147, rewards:-89.39874131944444, queue:59.544444444444444, delay:0.7087039523654514, throughput:1913\n",
            "2023-12-08 20:09:36 (INFO): step:3600/3600, q_loss:316.25311279296875, rewards:-99.44914279513888, queue:66.25, delay:0.7173942565917969, throughput:1899\n",
            "2023-12-08 20:09:36 (INFO): episode:58/200, real avg travel time:189.98268184067294\n",
            "2023-12-08 20:09:40 (INFO): Test step:58/200, travel time :184.36318654131617, rewards:-95.068359375, queue:63.236111111111114, delay:0.7135140313042535, throughput:1899\n",
            "2023-12-08 20:09:45 (INFO): step:3600/3600, q_loss:310.4898681640625, rewards:-90.32666015625, queue:60.205555555555556, delay:0.7167734781901042, throughput:1937\n",
            "2023-12-08 20:09:45 (INFO): episode:59/200, real avg travel time:175.12023750618505\n",
            "2023-12-08 20:09:49 (INFO): Test step:59/200, travel time :314.71994062345374, rewards:-134.81752387152778, queue:89.78611111111111, delay:0.6597166697184245, throughput:1657\n",
            "2023-12-08 20:09:55 (INFO): step:3600/3600, q_loss:317.9100646972656, rewards:-76.53123914930555, queue:50.96388888888889, delay:0.7324815538194445, throughput:1946\n",
            "2023-12-08 20:09:55 (INFO): episode:60/200, real avg travel time:158.1083621969322\n",
            "2023-12-08 20:10:00 (INFO): Test step:60/200, travel time :182.78030677882236, rewards:-91.49665798611112, queue:60.855555555555554, delay:0.6885690477159289, throughput:1901\n",
            "2023-12-08 20:10:05 (INFO): step:3600/3600, q_loss:312.2458801269531, rewards:-74.28375108506944, queue:49.44166666666667, delay:0.724170430501302, throughput:1941\n",
            "2023-12-08 20:10:05 (INFO): episode:61/200, real avg travel time:154.75754576942109\n",
            "2023-12-08 20:10:09 (INFO): Test step:61/200, travel time :195.01781296387927, rewards:-102.58206380208334, queue:68.28333333333333, delay:0.722670406765408, throughput:1893\n",
            "2023-12-08 20:10:16 (INFO): step:3600/3600, q_loss:300.5274658203125, rewards:-82.30956488715277, queue:54.763888888888886, delay:0.6925223456488715, throughput:1920\n",
            "2023-12-08 20:10:16 (INFO): episode:62/200, real avg travel time:165.41019297377537\n",
            "2023-12-08 20:10:19 (INFO): Test step:62/200, travel time :235.09153884215735, rewards:-120.11791449652777, queue:80.05, delay:0.6565549214680989, throughput:1834\n",
            "2023-12-08 20:10:24 (INFO): step:3600/3600, q_loss:299.22100830078125, rewards:-73.73209635416667, queue:48.96666666666667, delay:0.727092997233073, throughput:1949\n",
            "2023-12-08 20:10:24 (INFO): episode:63/200, real avg travel time:154.49332013854527\n",
            "2023-12-08 20:10:28 (INFO): Test step:63/200, travel time :166.22167243938645, rewards:-83.18581814236111, queue:55.31111111111111, delay:0.7110252380371094, throughput:1917\n",
            "2023-12-08 20:10:35 (INFO): step:3600/3600, q_loss:304.6236877441406, rewards:-100.83875868055556, queue:67.2, delay:0.7160880194769965, throughput:1911\n",
            "2023-12-08 20:10:35 (INFO): episode:64/200, real avg travel time:192.21622958931223\n",
            "2023-12-08 20:10:38 (INFO): Test step:64/200, travel time :216.83176645225137, rewards:-122.7296115451389, queue:81.73333333333333, delay:0.7232349819607204, throughput:1888\n",
            "2023-12-08 20:10:43 (INFO): step:3600/3600, q_loss:304.9503173828125, rewards:-73.71164822048611, queue:49.016666666666666, delay:0.7120133293999567, throughput:1935\n",
            "2023-12-08 20:10:43 (INFO): episode:65/200, real avg travel time:153.66600692726374\n",
            "2023-12-08 20:10:48 (INFO): Test step:65/200, travel time :153.00593765462642, rewards:-73.05248480902777, queue:48.68611111111111, delay:0.6995411766899957, throughput:1933\n",
            "2023-12-08 20:10:54 (INFO): step:3600/3600, q_loss:300.89532470703125, rewards:-75.4154079861111, queue:50.19722222222222, delay:0.6965649922688802, throughput:1937\n",
            "2023-12-08 20:10:54 (INFO): episode:66/200, real avg travel time:155.5012370113805\n",
            "2023-12-08 20:10:58 (INFO): Test step:66/200, travel time :761.4700643245918, rewards:-206.794140625, queue:138.04444444444445, delay:0.6825640784369574, throughput:1080\n",
            "2023-12-08 20:11:04 (INFO): step:3600/3600, q_loss:294.4697265625, rewards:-89.92082248263888, queue:59.90833333333333, delay:0.7130421108669704, throughput:1892\n",
            "2023-12-08 20:11:04 (INFO): episode:67/200, real avg travel time:180.77288471053933\n",
            "2023-12-08 20:11:09 (INFO): Test step:67/200, travel time :391.5774369124196, rewards:-163.13045789930555, queue:108.86666666666666, delay:0.6617014567057292, throughput:1489\n",
            "2023-12-08 20:11:14 (INFO): step:3600/3600, q_loss:301.0958557128906, rewards:-79.47791883680556, queue:52.94444444444444, delay:0.7204439798990886, throughput:1920\n",
            "2023-12-08 20:11:14 (INFO): episode:68/200, real avg travel time:164.06481939633844\n",
            "2023-12-08 20:11:18 (INFO): Test step:68/200, travel time :183.88619495299358, rewards:-96.28624131944444, queue:64.16111111111111, delay:0.6587552388509115, throughput:1894\n",
            "2023-12-08 20:11:24 (INFO): step:3600/3600, q_loss:298.9616394042969, rewards:-86.68626844618055, queue:57.71388888888889, delay:0.7138982137044271, throughput:1907\n",
            "2023-12-08 20:11:24 (INFO): episode:69/200, real avg travel time:170.54725383473527\n",
            "2023-12-08 20:11:29 (INFO): Test step:69/200, travel time :254.76001979218208, rewards:-144.0283420138889, queue:96.1, delay:0.7232577006022135, throughput:1772\n",
            "2023-12-08 20:11:34 (INFO): step:3600/3600, q_loss:292.98883056640625, rewards:-77.9970703125, queue:51.94166666666667, delay:0.7196837531195747, throughput:1932\n",
            "2023-12-08 20:11:34 (INFO): episode:70/200, real avg travel time:158.95695200395843\n",
            "2023-12-08 20:11:39 (INFO): Test step:70/200, travel time :505.7140029688273, rewards:-183.7195529513889, queue:122.61111111111111, delay:0.6798394097222222, throughput:1312\n",
            "2023-12-08 20:11:46 (INFO): step:3600/3600, q_loss:297.716064453125, rewards:-61.94958767361111, queue:41.169444444444444, delay:0.6895243750678168, throughput:1940\n",
            "2023-12-08 20:11:46 (INFO): episode:71/200, real avg travel time:137.8466105888174\n",
            "2023-12-08 20:11:49 (INFO): Test step:71/200, travel time :146.91835724888668, rewards:-68.63624674479166, queue:45.69444444444444, delay:0.6876800113254123, throughput:1949\n",
            "2023-12-08 20:11:54 (INFO): step:3600/3600, q_loss:279.7298278808594, rewards:-70.73873155381945, queue:47.06111111111111, delay:0.6968665228949653, throughput:1946\n",
            "2023-12-08 20:11:54 (INFO): episode:72/200, real avg travel time:150.6575952498763\n",
            "2023-12-08 20:11:58 (INFO): Test step:72/200, travel time :180.92676892627412, rewards:-90.74540473090278, queue:60.358333333333334, delay:0.6821400536431207, throughput:1893\n",
            "2023-12-08 20:12:05 (INFO): step:3600/3600, q_loss:267.4488830566406, rewards:-84.70501844618056, queue:56.425, delay:0.7181585523817274, throughput:1906\n",
            "2023-12-08 20:12:05 (INFO): episode:73/200, real avg travel time:168.421573478476\n",
            "2023-12-08 20:12:08 (INFO): Test step:73/200, travel time :160.0752102919347, rewards:-78.03585611979166, queue:51.925, delay:0.7232538859049479, throughput:1934\n",
            "2023-12-08 20:12:13 (INFO): step:3600/3600, q_loss:262.7745361328125, rewards:-73.231640625, queue:48.68888888888889, delay:0.7245432535807291, throughput:1948\n",
            "2023-12-08 20:12:13 (INFO): episode:74/200, real avg travel time:153.7882236516576\n",
            "2023-12-08 20:12:17 (INFO): Test step:74/200, travel time :188.61850569025236, rewards:-96.43667534722222, queue:64.25277777777778, delay:0.6835540771484375, throughput:1887\n",
            "2023-12-08 20:12:24 (INFO): step:3600/3600, q_loss:270.6291198730469, rewards:-87.38875325520833, queue:58.17777777777778, delay:0.7195236206054687, throughput:1923\n",
            "2023-12-08 20:12:24 (INFO): episode:75/200, real avg travel time:174.85799109351805\n",
            "2023-12-08 20:12:28 (INFO): Test step:75/200, travel time :212.9747649678377, rewards:-119.45037977430556, queue:79.59444444444445, delay:0.7024883270263672, throughput:1848\n",
            "2023-12-08 20:12:33 (INFO): step:3600/3600, q_loss:260.1009826660156, rewards:-68.20583224826389, queue:45.37777777777778, delay:0.7109346177842882, throughput:1946\n",
            "2023-12-08 20:12:33 (INFO): episode:76/200, real avg travel time:146.51756556160316\n",
            "2023-12-08 20:12:37 (INFO): Test step:76/200, travel time :141.88273132112815, rewards:-64.86042751736112, queue:43.05, delay:0.683295652601454, throughput:1954\n",
            "2023-12-08 20:12:42 (INFO): step:3600/3600, q_loss:274.5924987792969, rewards:-60.125406901041664, queue:39.87222222222222, delay:0.6662199232313368, throughput:1949\n",
            "2023-12-08 20:12:42 (INFO): episode:77/200, real avg travel time:134.98416625432955\n",
            "2023-12-08 20:12:46 (INFO): Test step:77/200, travel time :151.75309252845125, rewards:-72.86916775173611, queue:48.40277777777778, delay:0.6933064354790581, throughput:1933\n",
            "2023-12-08 20:12:51 (INFO): step:3600/3600, q_loss:268.8292236328125, rewards:-73.30667860243055, queue:48.81111111111111, delay:0.7266094631618923, throughput:1942\n",
            "2023-12-08 20:12:51 (INFO): episode:78/200, real avg travel time:152.4210786739238\n",
            "2023-12-08 20:12:56 (INFO): Test step:78/200, travel time :153.9475507174666, rewards:-74.95828993055555, queue:49.875, delay:0.6850171407063802, throughput:1935\n",
            "2023-12-08 20:13:01 (INFO): step:3600/3600, q_loss:273.16644287109375, rewards:-69.80963541666667, queue:46.41111111111111, delay:0.697808117336697, throughput:1943\n",
            "2023-12-08 20:13:01 (INFO): episode:79/200, real avg travel time:147.78228599703118\n",
            "2023-12-08 20:13:04 (INFO): Test step:79/200, travel time :155.7585353785255, rewards:-76.64084201388889, queue:50.97222222222222, delay:0.6674447801378038, throughput:1920\n",
            "2023-12-08 20:13:10 (INFO): step:3600/3600, q_loss:257.3737487792969, rewards:-65.32171223958333, queue:43.37222222222222, delay:0.6690126630995009, throughput:1950\n",
            "2023-12-08 20:13:10 (INFO): episode:80/200, real avg travel time:142.33102424542307\n",
            "2023-12-08 20:13:15 (INFO): Test step:80/200, travel time :157.56308758040575, rewards:-77.72337782118055, queue:51.67777777777778, delay:0.7130562676323785, throughput:1937\n",
            "2023-12-08 20:13:20 (INFO): step:3600/3600, q_loss:242.69566345214844, rewards:-93.68956163194444, queue:62.40555555555556, delay:0.7230301751030817, throughput:1920\n",
            "2023-12-08 20:13:20 (INFO): episode:81/200, real avg travel time:179.16823354774863\n",
            "2023-12-08 20:13:24 (INFO): Test step:81/200, travel time :179.53735774369125, rewards:-91.7308376736111, queue:61.075, delay:0.6796089172363281, throughput:1891\n",
            "2023-12-08 20:13:30 (INFO): step:3600/3600, q_loss:244.5751495361328, rewards:-75.92790798611111, queue:50.544444444444444, delay:0.6934625837537978, throughput:1930\n",
            "2023-12-08 20:13:30 (INFO): episode:82/200, real avg travel time:156.6575952498763\n",
            "2023-12-08 20:13:34 (INFO): Test step:82/200, travel time :169.45225136071252, rewards:-87.82333441840278, queue:58.46111111111111, delay:0.7083156161838108, throughput:1927\n",
            "2023-12-08 20:13:39 (INFO): step:3600/3600, q_loss:240.31573486328125, rewards:-72.37542317708333, queue:48.16388888888889, delay:0.7075392829047309, throughput:1943\n",
            "2023-12-08 20:13:39 (INFO): episode:83/200, real avg travel time:152.42949035131124\n",
            "2023-12-08 20:13:43 (INFO): Test step:83/200, travel time :168.5012370113805, rewards:-85.46373155381944, queue:56.85, delay:0.6584335327148437, throughput:1938\n",
            "2023-12-08 20:13:49 (INFO): step:3600/3600, q_loss:246.95127868652344, rewards:-65.38167860243055, queue:43.41388888888889, delay:0.7112521701388889, throughput:1950\n",
            "2023-12-08 20:13:49 (INFO): episode:84/200, real avg travel time:143.3656605640772\n",
            "2023-12-08 20:13:53 (INFO): Test step:84/200, travel time :153.83127164769917, rewards:-73.20998263888889, queue:48.61388888888889, delay:0.7232525295681423, throughput:1938\n",
            "2023-12-08 20:13:58 (INFO): step:3600/3600, q_loss:249.90789794921875, rewards:-65.44207899305556, queue:43.480555555555554, delay:0.7134151034884982, throughput:1942\n",
            "2023-12-08 20:13:58 (INFO): episode:85/200, real avg travel time:143.85898070262246\n",
            "2023-12-08 20:14:03 (INFO): Test step:85/200, travel time :335.38050470064326, rewards:-156.7158203125, queue:104.56111111111112, delay:0.7058673434787326, throughput:1561\n",
            "2023-12-08 20:14:09 (INFO): step:3600/3600, q_loss:250.36370849609375, rewards:-59.995844184027774, queue:39.833333333333336, delay:0.7035853068033854, throughput:1955\n",
            "2023-12-08 20:14:09 (INFO): episode:86/200, real avg travel time:135.77684314695696\n",
            "2023-12-08 20:14:12 (INFO): Test step:86/200, travel time :169.48193963384463, rewards:-86.52374674479167, queue:57.547222222222224, delay:0.6743805355495877, throughput:1928\n",
            "2023-12-08 20:14:17 (INFO): step:3600/3600, q_loss:246.92294311523438, rewards:-75.60330946180555, queue:50.272222222222226, delay:0.7249849955240886, throughput:1936\n",
            "2023-12-08 20:14:17 (INFO): episode:87/200, real avg travel time:157.18555170707572\n",
            "2023-12-08 20:14:21 (INFO): Test step:87/200, travel time :143.48589807026224, rewards:-64.25416666666666, queue:42.68333333333333, delay:0.6936917199028863, throughput:1949\n",
            "2023-12-08 20:14:27 (INFO): step:3600/3600, q_loss:238.9401092529297, rewards:-73.14541015625, queue:48.702777777777776, delay:0.705572001139323, throughput:1936\n",
            "2023-12-08 20:14:27 (INFO): episode:88/200, real avg travel time:155.2657100445324\n",
            "2023-12-08 20:14:31 (INFO): Test step:88/200, travel time :142.28104898565067, rewards:-64.20083550347222, queue:42.638888888888886, delay:0.6820337507459853, throughput:1945\n",
            "2023-12-08 20:14:35 (INFO): step:3600/3600, q_loss:239.7598114013672, rewards:-67.83289388020833, queue:45.144444444444446, delay:0.7010535769992404, throughput:1954\n",
            "2023-12-08 20:14:35 (INFO): episode:89/200, real avg travel time:147.0994557149926\n",
            "2023-12-08 20:14:40 (INFO): Test step:89/200, travel time :166.4794656110836, rewards:-81.53542751736111, queue:54.172222222222224, delay:0.6833894517686632, throughput:1913\n",
            "2023-12-08 20:14:46 (INFO): step:3600/3600, q_loss:221.15908813476562, rewards:-66.70456814236111, queue:44.31666666666667, delay:0.7134923299153646, throughput:1938\n",
            "2023-12-08 20:14:46 (INFO): episode:90/200, real avg travel time:147.72835230084118\n",
            "2023-12-08 20:14:50 (INFO): Test step:90/200, travel time :147.9797130133597, rewards:-67.707080078125, queue:45.080555555555556, delay:0.6855609893798829, throughput:1944\n",
            "2023-12-08 20:14:55 (INFO): step:3600/3600, q_loss:211.5521240234375, rewards:-64.42500542534722, queue:42.78055555555556, delay:0.697069337632921, throughput:1939\n",
            "2023-12-08 20:14:55 (INFO): episode:91/200, real avg travel time:144.37951509153885\n",
            "2023-12-08 20:14:59 (INFO): Test step:91/200, travel time :138.34388916378032, rewards:-60.5216796875, queue:40.266666666666666, delay:0.7083781348334418, throughput:1947\n",
            "2023-12-08 20:15:04 (INFO): step:3600/3600, q_loss:218.95904541015625, rewards:-57.38961588541667, queue:38.144444444444446, delay:0.6837904188368056, throughput:1954\n",
            "2023-12-08 20:15:04 (INFO): episode:92/200, real avg travel time:134.59327065809006\n",
            "2023-12-08 20:15:08 (INFO): Test step:92/200, travel time :156.06185056902524, rewards:-73.32833658854166, queue:48.78055555555556, delay:0.6674928029378255, throughput:1914\n",
            "2023-12-08 20:15:13 (INFO): step:3600/3600, q_loss:221.1947479248047, rewards:-61.498773871527774, queue:40.93055555555556, delay:0.6768628438313802, throughput:1943\n",
            "2023-12-08 20:15:13 (INFO): episode:93/200, real avg travel time:142.58782780801585\n",
            "2023-12-08 20:15:17 (INFO): Test step:93/200, travel time :147.24888668975754, rewards:-67.54247504340277, queue:44.977777777777774, delay:0.6633723364935981, throughput:1943\n",
            "2023-12-08 20:15:22 (INFO): step:3600/3600, q_loss:234.09808349609375, rewards:-61.5033203125, queue:40.86666666666667, delay:0.6845624711778429, throughput:1925\n",
            "2023-12-08 20:15:22 (INFO): episode:94/200, real avg travel time:140.5779317169718\n",
            "2023-12-08 20:15:26 (INFO): Test step:94/200, travel time :192.840672934191, rewards:-90.29370659722223, queue:60.09444444444444, delay:0.6757505628797743, throughput:1897\n",
            "2023-12-08 20:15:32 (INFO): step:3600/3600, q_loss:221.38909912109375, rewards:-64.57376302083334, queue:42.855555555555554, delay:0.7090206570095486, throughput:1950\n",
            "2023-12-08 20:15:32 (INFO): episode:95/200, real avg travel time:144.74022761009402\n",
            "2023-12-08 20:15:37 (INFO): Test step:95/200, travel time :181.67738743196438, rewards:-86.15037977430555, queue:57.40555555555556, delay:0.6580432467990451, throughput:1897\n",
            "2023-12-08 20:15:42 (INFO): step:3600/3600, q_loss:239.25416564941406, rewards:-66.00958116319444, queue:43.90277777777778, delay:0.675097910563151, throughput:1935\n",
            "2023-12-08 20:15:42 (INFO): episode:96/200, real avg travel time:149.0301830776843\n",
            "2023-12-08 20:15:45 (INFO): Test step:96/200, travel time :127.75111331024246, rewards:-53.25792100694444, queue:35.33888888888889, delay:0.6797826978895399, throughput:1955\n",
            "2023-12-08 20:15:51 (INFO): step:3600/3600, q_loss:230.89926147460938, rewards:-59.184163411458336, queue:39.25555555555555, delay:0.69105101691352, throughput:1954\n",
            "2023-12-08 20:15:51 (INFO): episode:97/200, real avg travel time:137.01632855022265\n",
            "2023-12-08 20:15:55 (INFO): Test step:97/200, travel time :161.68035625927757, rewards:-63.91999240451389, queue:42.483333333333334, delay:0.656279542711046, throughput:1927\n",
            "2023-12-08 20:16:00 (INFO): step:3600/3600, q_loss:222.85948181152344, rewards:-61.18205295138889, queue:40.708333333333336, delay:0.6649996863471137, throughput:1950\n",
            "2023-12-08 20:16:00 (INFO): episode:98/200, real avg travel time:140.01088570014844\n",
            "2023-12-08 20:16:03 (INFO): Test step:98/200, travel time :224.3671449777338, rewards:-91.41375868055556, queue:60.925, delay:0.6957433912489149, throughput:1883\n",
            "2023-12-08 20:16:09 (INFO): step:3600/3600, q_loss:213.44895935058594, rewards:-53.57335611979167, queue:35.58888888888889, delay:0.676490232679579, throughput:1950\n",
            "2023-12-08 20:16:09 (INFO): episode:99/200, real avg travel time:129.0\n",
            "2023-12-08 20:16:13 (INFO): Test step:99/200, travel time :131.470559129144, rewards:-56.130419921875, queue:37.25833333333333, delay:0.6872682359483507, throughput:1955\n",
            "2023-12-08 20:16:18 (INFO): step:3600/3600, q_loss:227.44696044921875, rewards:-63.04123806423611, queue:41.90277777777778, delay:0.6801450093587239, throughput:1943\n",
            "2023-12-08 20:16:18 (INFO): episode:100/200, real avg travel time:142.64769915883227\n",
            "2023-12-08 20:16:22 (INFO): Test step:100/200, travel time :135.77189510143492, rewards:-59.20457356770833, queue:39.30555555555556, delay:0.6758460574679904, throughput:1950\n",
            "2023-12-08 20:16:28 (INFO): step:3600/3600, q_loss:227.2310791015625, rewards:-69.0574978298611, queue:45.92777777777778, delay:0.6922932518853082, throughput:1940\n",
            "2023-12-08 20:16:28 (INFO): episode:101/200, real avg travel time:152.32162295893121\n",
            "2023-12-08 20:16:32 (INFO): Test step:101/200, travel time :135.79861454725383, rewards:-59.42414279513889, queue:39.477777777777774, delay:0.6817355261908637, throughput:1950\n",
            "2023-12-08 20:16:37 (INFO): step:3600/3600, q_loss:227.11941528320312, rewards:-67.03208550347222, queue:44.61944444444445, delay:0.6612699720594618, throughput:1928\n",
            "2023-12-08 20:16:37 (INFO): episode:102/200, real avg travel time:150.06778822365166\n",
            "2023-12-08 20:16:41 (INFO): Test step:102/200, travel time :608.8604651162791, rewards:-190.44251302083333, queue:127.14166666666667, delay:0.6962700313991971, throughput:1317\n",
            "2023-12-08 20:16:48 (INFO): step:3600/3600, q_loss:239.221923828125, rewards:-52.952083333333334, queue:35.16111111111111, delay:0.6632475111219618, throughput:1960\n",
            "2023-12-08 20:16:48 (INFO): episode:103/200, real avg travel time:128.77337951509153\n",
            "2023-12-08 20:16:51 (INFO): Test step:103/200, travel time :171.12419594260268, rewards:-78.59792751736111, queue:52.25, delay:0.6814238654242621, throughput:1927\n",
            "2023-12-08 20:16:56 (INFO): step:3600/3600, q_loss:231.9615478515625, rewards:-70.51707356770834, queue:46.94722222222222, delay:0.6856103685167101, throughput:1940\n",
            "2023-12-08 20:16:56 (INFO): episode:104/200, real avg travel time:159.24938149430974\n",
            "2023-12-08 20:16:59 (INFO): Test step:104/200, travel time :142.16674913409204, rewards:-62.96873372395833, queue:41.830555555555556, delay:0.6716515435112848, throughput:1947\n",
            "2023-12-08 20:17:06 (INFO): step:3600/3600, q_loss:236.5570068359375, rewards:-60.85708550347222, queue:40.46388888888889, delay:0.6861548953586154, throughput:1933\n",
            "2023-12-08 20:17:06 (INFO): episode:105/200, real avg travel time:140.70460168233546\n",
            "2023-12-08 20:17:10 (INFO): Test step:105/200, travel time :165.59228104898565, rewards:-76.72167426215277, queue:50.94444444444444, delay:0.7019406212700738, throughput:1916\n",
            "2023-12-08 20:17:14 (INFO): step:3600/3600, q_loss:238.60281372070312, rewards:-56.93582899305556, queue:37.833333333333336, delay:0.6787563323974609, throughput:1951\n",
            "2023-12-08 20:17:14 (INFO): episode:106/200, real avg travel time:134.6818406729342\n",
            "2023-12-08 20:17:18 (INFO): Test step:106/200, travel time :128.51756556160316, rewards:-53.774576822916664, queue:35.71111111111111, delay:0.6480152977837457, throughput:1956\n",
            "2023-12-08 20:17:24 (INFO): step:3600/3600, q_loss:250.2052459716797, rewards:-50.091639539930554, queue:33.208333333333336, delay:0.6481211768256293, throughput:1954\n",
            "2023-12-08 20:17:24 (INFO): episode:107/200, real avg travel time:124.48738248391885\n",
            "2023-12-08 20:17:27 (INFO): Test step:107/200, travel time :129.0786739238001, rewards:-53.08875325520833, queue:35.18055555555556, delay:0.6896366543240018, throughput:1958\n",
            "2023-12-08 20:17:32 (INFO): step:3600/3600, q_loss:238.74891662597656, rewards:-57.12374131944444, queue:37.93888888888889, delay:0.6804971906873915, throughput:1951\n",
            "2023-12-08 20:17:32 (INFO): episode:108/200, real avg travel time:134.32855022266205\n",
            "2023-12-08 20:17:36 (INFO): Test step:108/200, travel time :179.88273132112815, rewards:-89.27290581597222, queue:59.50277777777778, delay:0.6777078416612413, throughput:1921\n",
            "2023-12-08 20:17:42 (INFO): step:3600/3600, q_loss:233.76181030273438, rewards:-51.75544162326389, queue:34.33888888888889, delay:0.6661055670844184, throughput:1967\n",
            "2023-12-08 20:17:42 (INFO): episode:109/200, real avg travel time:126.51855517070757\n",
            "2023-12-08 20:17:45 (INFO): Test step:109/200, travel time :129.72884710539336, rewards:-54.219997829861114, queue:35.97222222222222, delay:0.6788626352945963, throughput:1948\n",
            "2023-12-08 20:17:50 (INFO): step:3600/3600, q_loss:229.87161254882812, rewards:-62.399989149305554, queue:41.44166666666667, delay:0.6844153086344401, throughput:1951\n",
            "2023-12-08 20:17:50 (INFO): episode:110/200, real avg travel time:142.7080653142009\n",
            "2023-12-08 20:17:55 (INFO): Test step:110/200, travel time :134.48490846115783, rewards:-57.78915473090278, queue:38.40555555555556, delay:0.6756388346354166, throughput:1954\n",
            "2023-12-08 20:18:01 (INFO): step:3600/3600, q_loss:237.42535400390625, rewards:-60.25833875868056, queue:40.016666666666666, delay:0.7050917731391059, throughput:1950\n",
            "2023-12-08 20:18:01 (INFO): episode:111/200, real avg travel time:137.46165264720435\n",
            "2023-12-08 20:18:04 (INFO): Test step:111/200, travel time :137.60217714002968, rewards:-57.18873697916667, queue:37.97222222222222, delay:0.653174082438151, throughput:1942\n",
            "2023-12-08 20:18:08 (INFO): step:3600/3600, q_loss:231.12619018554688, rewards:-55.757503255208334, queue:37.05833333333333, delay:0.6749342600504558, throughput:1962\n",
            "2023-12-08 20:18:08 (INFO): episode:112/200, real avg travel time:131.68975754576942\n",
            "2023-12-08 20:18:13 (INFO): Test step:112/200, travel time :138.3453735774369, rewards:-60.73458658854167, queue:40.33888888888889, delay:0.6563304053412543, throughput:1953\n",
            "2023-12-08 20:18:18 (INFO): step:3600/3600, q_loss:232.97503662109375, rewards:-52.50208875868056, queue:34.855555555555554, delay:0.6761258867051866, throughput:1953\n",
            "2023-12-08 20:18:18 (INFO): episode:113/200, real avg travel time:127.97130133597229\n",
            "2023-12-08 20:18:22 (INFO): Test step:113/200, travel time :147.50173181593271, rewards:-69.45125868055555, queue:46.16111111111111, delay:0.6760506947835286, throughput:1941\n",
            "2023-12-08 20:18:26 (INFO): step:3600/3600, q_loss:232.63575744628906, rewards:-63.80876193576389, queue:42.41388888888889, delay:0.6857731713189019, throughput:1941\n",
            "2023-12-08 20:18:26 (INFO): episode:114/200, real avg travel time:141.92281048985652\n",
            "2023-12-08 20:18:31 (INFO): Test step:114/200, travel time :134.45126175160811, rewards:-57.597493489583336, queue:38.24166666666667, delay:0.6858124203152127, throughput:1940\n",
            "2023-12-08 20:18:37 (INFO): step:3600/3600, q_loss:217.05477905273438, rewards:-61.99832899305556, queue:41.230555555555554, delay:0.6751569535997178, throughput:1960\n",
            "2023-12-08 20:18:37 (INFO): episode:115/200, real avg travel time:139.156853043048\n",
            "2023-12-08 20:18:40 (INFO): Test step:115/200, travel time :122.51904997525978, rewards:-48.29210069444444, queue:32.05, delay:0.6649388631184896, throughput:1959\n",
            "2023-12-08 20:18:45 (INFO): step:3600/3600, q_loss:213.09617614746094, rewards:-50.52958984375, queue:33.516666666666666, delay:0.6833825853135851, throughput:1957\n",
            "2023-12-08 20:18:45 (INFO): episode:116/200, real avg travel time:125.00544285007422\n",
            "2023-12-08 20:18:50 (INFO): Test step:116/200, travel time :190.9955467590302, rewards:-90.16624891493055, queue:59.99166666666667, delay:0.6859390682644314, throughput:1874\n",
            "2023-12-08 20:18:55 (INFO): step:3600/3600, q_loss:210.44839477539062, rewards:-80.84956597222222, queue:53.78333333333333, delay:0.6674800872802734, throughput:1917\n",
            "2023-12-08 20:18:55 (INFO): episode:117/200, real avg travel time:172.7921820880752\n",
            "2023-12-08 20:18:58 (INFO): Test step:117/200, travel time :130.21425037110342, rewards:-55.601649305555554, queue:36.90555555555556, delay:0.6800653245713976, throughput:1957\n",
            "2023-12-08 20:19:04 (INFO): step:3600/3600, q_loss:212.30381774902344, rewards:-66.21623806423611, queue:44.0, delay:0.7105760362413195, throughput:1943\n",
            "2023-12-08 20:19:04 (INFO): episode:118/200, real avg travel time:145.0202869866403\n",
            "2023-12-08 20:19:08 (INFO): Test step:118/200, travel time :149.6843146956952, rewards:-70.15837131076388, queue:46.69722222222222, delay:0.702289793226454, throughput:1937\n",
            "2023-12-08 20:19:13 (INFO): step:3600/3600, q_loss:206.6595458984375, rewards:-65.31748589409722, queue:43.4, delay:0.7038392384847005, throughput:1944\n",
            "2023-12-08 20:19:13 (INFO): episode:119/200, real avg travel time:145.9257793171697\n",
            "2023-12-08 20:19:17 (INFO): Test step:119/200, travel time :156.05591291439882, rewards:-75.06247287326389, queue:50.0, delay:0.7050203959147135, throughput:1936\n",
            "2023-12-08 20:19:22 (INFO): step:3600/3600, q_loss:205.29183959960938, rewards:-59.084575737847224, queue:39.25555555555555, delay:0.6929468366834852, throughput:1952\n",
            "2023-12-08 20:19:22 (INFO): episode:120/200, real avg travel time:135.92676892627412\n",
            "2023-12-08 20:19:28 (INFO): Test step:120/200, travel time :176.9005442850074, rewards:-87.56626519097222, queue:58.40833333333333, delay:0.6688349829779731, throughput:1827\n",
            "2023-12-08 20:19:33 (INFO): step:3600/3600, q_loss:203.40975952148438, rewards:-68.34958224826389, queue:45.46666666666667, delay:0.7092106289333767, throughput:1931\n",
            "2023-12-08 20:19:33 (INFO): episode:121/200, real avg travel time:148.64819396338447\n",
            "2023-12-08 20:19:36 (INFO): Test step:121/200, travel time :146.78525482434438, rewards:-67.47038845486111, queue:44.888888888888886, delay:0.697085444132487, throughput:1922\n",
            "2023-12-08 20:19:42 (INFO): step:3600/3600, q_loss:219.65438842773438, rewards:-53.267095269097226, queue:35.419444444444444, delay:0.6849443223741319, throughput:1941\n",
            "2023-12-08 20:19:42 (INFO): episode:122/200, real avg travel time:128.27808015833745\n",
            "2023-12-08 20:19:46 (INFO): Test step:122/200, travel time :178.99356754082137, rewards:-90.55211046006944, queue:60.275, delay:0.7035585615370009, throughput:1875\n",
            "2023-12-08 20:19:51 (INFO): step:3600/3600, q_loss:222.94654846191406, rewards:-54.041650390625, queue:35.86388888888889, delay:0.688126458062066, throughput:1936\n",
            "2023-12-08 20:19:51 (INFO): episode:123/200, real avg travel time:130.7639782285997\n",
            "2023-12-08 20:19:54 (INFO): Test step:123/200, travel time :230.14052449282534, rewards:-121.20669487847222, queue:80.90555555555555, delay:0.6905778672960069, throughput:1824\n",
            "2023-12-08 20:20:00 (INFO): step:3600/3600, q_loss:223.52304077148438, rewards:-60.682926432291666, queue:40.375, delay:0.7028746710883247, throughput:1937\n",
            "2023-12-08 20:20:00 (INFO): episode:124/200, real avg travel time:139.38842157347847\n",
            "2023-12-08 20:20:04 (INFO): Test step:124/200, travel time :164.25235032162297, rewards:-77.99207899305556, queue:51.861111111111114, delay:0.7199816385904948, throughput:1905\n",
            "2023-12-08 20:20:09 (INFO): step:3600/3600, q_loss:203.13131713867188, rewards:-55.275851779513886, queue:36.65, delay:0.693915515475803, throughput:1968\n",
            "2023-12-08 20:20:09 (INFO): episode:125/200, real avg travel time:131.75457694210786\n",
            "2023-12-08 20:20:13 (INFO): Test step:125/200, travel time :176.24492825333994, rewards:-89.28586154513889, queue:59.522222222222226, delay:0.72059326171875, throughput:1912\n",
            "2023-12-08 20:20:20 (INFO): step:3600/3600, q_loss:207.36154174804688, rewards:-58.033349609375, queue:38.56111111111111, delay:0.7011020236545139, throughput:1930\n",
            "2023-12-08 20:20:20 (INFO): episode:126/200, real avg travel time:134.69025235032163\n",
            "2023-12-08 20:20:24 (INFO): Test step:126/200, travel time :154.96091044037604, rewards:-73.47083875868056, queue:48.94444444444444, delay:0.7024242401123046, throughput:1903\n",
            "2023-12-08 20:20:28 (INFO): step:3600/3600, q_loss:218.16519165039062, rewards:-51.98539496527778, queue:34.483333333333334, delay:0.6911576165093316, throughput:1945\n",
            "2023-12-08 20:20:28 (INFO): episode:127/200, real avg travel time:126.58337456704602\n",
            "2023-12-08 20:20:32 (INFO): Test step:127/200, travel time :160.26472043542802, rewards:-78.53000759548611, queue:52.291666666666664, delay:0.6962543063693576, throughput:1862\n",
            "2023-12-08 20:20:38 (INFO): step:3600/3600, q_loss:216.36370849609375, rewards:-59.010845269097224, queue:39.18611111111111, delay:0.6849227481418185, throughput:1945\n",
            "2023-12-08 20:20:38 (INFO): episode:128/200, real avg travel time:138.25383473527955\n",
            "2023-12-08 20:20:42 (INFO): Test step:128/200, travel time :132.42652152399802, rewards:-55.90791015625, queue:37.09722222222222, delay:0.6946272956000434, throughput:1939\n",
            "2023-12-08 20:20:46 (INFO): step:3600/3600, q_loss:214.83212280273438, rewards:-59.29626193576389, queue:39.333333333333336, delay:0.7045054965549045, throughput:1959\n",
            "2023-12-08 20:20:46 (INFO): episode:129/200, real avg travel time:137.62444334487878\n",
            "2023-12-08 20:20:50 (INFO): Test step:129/200, travel time :122.3142008906482, rewards:-49.117914496527774, queue:32.56944444444444, delay:0.6719344668918186, throughput:1947\n",
            "2023-12-08 20:20:57 (INFO): step:3600/3600, q_loss:216.26278686523438, rewards:-63.794590928819446, queue:42.40555555555556, delay:0.6945581224229601, throughput:1932\n",
            "2023-12-08 20:20:57 (INFO): episode:130/200, real avg travel time:145.83226125680358\n",
            "2023-12-08 20:21:00 (INFO): Test step:130/200, travel time :128.2919346857991, rewards:-52.81747504340278, queue:35.06388888888889, delay:0.6673910352918837, throughput:1938\n",
            "2023-12-08 20:21:05 (INFO): step:3600/3600, q_loss:214.06002807617188, rewards:-59.989176432291664, queue:39.91111111111111, delay:0.6908884684244792, throughput:1948\n",
            "2023-12-08 20:21:05 (INFO): episode:131/200, real avg travel time:138.12518555170706\n",
            "2023-12-08 20:21:09 (INFO): Test step:131/200, travel time :130.33250865907965, rewards:-53.71668836805556, queue:35.63055555555555, delay:0.6800690544976129, throughput:1961\n",
            "2023-12-08 20:21:15 (INFO): step:3600/3600, q_loss:215.49305725097656, rewards:-45.379581705729166, queue:30.04722222222222, delay:0.6718053181966146, throughput:1949\n",
            "2023-12-08 20:21:15 (INFO): episode:132/200, real avg travel time:119.28154379020287\n",
            "2023-12-08 20:21:18 (INFO): Test step:132/200, travel time :140.7877288471054, rewards:-60.10583767361111, queue:39.90277777777778, delay:0.6839614020453559, throughput:1928\n",
            "2023-12-08 20:21:23 (INFO): step:3600/3600, q_loss:204.36843872070312, rewards:-56.43873697916667, queue:37.45, delay:0.6787799835205078, throughput:1953\n",
            "2023-12-08 20:21:23 (INFO): episode:133/200, real avg travel time:134.1340920336467\n",
            "2023-12-08 20:21:27 (INFO): Test step:133/200, travel time :152.24987629886195, rewards:-72.39748263888889, queue:48.19444444444444, delay:0.667803700764974, throughput:1919\n",
            "2023-12-08 20:21:33 (INFO): step:3600/3600, q_loss:218.26058959960938, rewards:-59.50125868055556, queue:39.580555555555556, delay:0.6989940643310547, throughput:1942\n",
            "2023-12-08 20:21:33 (INFO): episode:134/200, real avg travel time:137.0791687283523\n",
            "2023-12-08 20:21:37 (INFO): Test step:134/200, travel time :148.5531914893617, rewards:-68.05500217013889, queue:45.225, delay:0.6804931216769748, throughput:1951\n",
            "2023-12-08 20:21:42 (INFO): step:3600/3600, q_loss:215.9022979736328, rewards:-57.43791232638889, queue:38.172222222222224, delay:0.6852853563096788, throughput:1936\n",
            "2023-12-08 20:21:42 (INFO): episode:135/200, real avg travel time:136.07224146462147\n",
            "2023-12-08 20:21:47 (INFO): Test step:135/200, travel time :140.2078179119248, rewards:-62.003765190972224, queue:41.18055555555556, delay:0.6989397684733073, throughput:1940\n",
            "2023-12-08 20:21:53 (INFO): step:3600/3600, q_loss:231.36265563964844, rewards:-64.68831922743055, queue:42.980555555555554, delay:0.6911459181043836, throughput:1938\n",
            "2023-12-08 20:21:53 (INFO): episode:136/200, real avg travel time:147.59871350816428\n",
            "2023-12-08 20:21:56 (INFO): Test step:136/200, travel time :137.0282038594755, rewards:-59.29625651041667, queue:39.355555555555554, delay:0.6750643412272136, throughput:1954\n",
            "2023-12-08 20:22:01 (INFO): step:3600/3600, q_loss:210.76406860351562, rewards:-61.11376953125, queue:40.541666666666664, delay:0.6969795650906033, throughput:1935\n",
            "2023-12-08 20:22:01 (INFO): episode:137/200, real avg travel time:140.40771895101435\n",
            "2023-12-08 20:22:05 (INFO): Test step:137/200, travel time :124.72983671449778, rewards:-50.795415581597226, queue:33.68888888888889, delay:0.6404610104031033, throughput:1964\n",
            "2023-12-08 20:22:10 (INFO): step:3600/3600, q_loss:217.71401977539062, rewards:-56.21916232638889, queue:37.31388888888889, delay:0.6626276652018229, throughput:1944\n",
            "2023-12-08 20:22:10 (INFO): episode:138/200, real avg travel time:133.2666996536368\n",
            "2023-12-08 20:22:14 (INFO): Test step:138/200, travel time :131.27659574468086, rewards:-54.31875542534722, queue:36.05277777777778, delay:0.6672418806287977, throughput:1941\n",
            "2023-12-08 20:22:18 (INFO): step:3600/3600, q_loss:213.7989959716797, rewards:-52.98457573784722, queue:35.21666666666667, delay:0.6597200605604384, throughput:1933\n",
            "2023-12-08 20:22:18 (INFO): episode:139/200, real avg travel time:128.96338446313706\n",
            "2023-12-08 20:22:23 (INFO): Test step:139/200, travel time :139.40870856011875, rewards:-61.26872287326389, queue:40.76111111111111, delay:0.6748728434244792, throughput:1935\n",
            "2023-12-08 20:22:29 (INFO): step:3600/3600, q_loss:216.6776885986328, rewards:-57.12875434027778, queue:37.87777777777778, delay:0.658991707695855, throughput:1933\n",
            "2023-12-08 20:22:29 (INFO): episode:140/200, real avg travel time:135.29688273132112\n",
            "2023-12-08 20:22:32 (INFO): Test step:140/200, travel time :141.88124690747154, rewards:-61.760004340277774, queue:40.96388888888889, delay:0.6580592261420356, throughput:1922\n",
            "2023-12-08 20:22:37 (INFO): step:3600/3600, q_loss:232.89950561523438, rewards:-54.55793728298611, queue:36.236111111111114, delay:0.6617599911159939, throughput:1959\n",
            "2023-12-08 20:22:37 (INFO): episode:141/200, real avg travel time:131.2414646214745\n",
            "2023-12-08 20:22:42 (INFO): Test step:141/200, travel time :133.50173181593271, rewards:-57.380023871527776, queue:38.172222222222224, delay:0.6482067955864801, throughput:1958\n",
            "2023-12-08 20:22:47 (INFO): step:3600/3600, q_loss:236.20077514648438, rewards:-48.657931857638886, queue:32.30277777777778, delay:0.6617975023057726, throughput:1955\n",
            "2023-12-08 20:22:47 (INFO): episode:142/200, real avg travel time:122.8436417615042\n",
            "2023-12-08 20:22:50 (INFO): Test step:142/200, travel time :147.9752597723899, rewards:-67.72332356770833, queue:45.019444444444446, delay:0.6791730668809679, throughput:1948\n",
            "2023-12-08 20:22:55 (INFO): step:3600/3600, q_loss:243.29562377929688, rewards:-59.17249891493056, queue:39.30833333333333, delay:0.6731379614935981, throughput:1939\n",
            "2023-12-08 20:22:55 (INFO): episode:143/200, real avg travel time:137.52152399802077\n",
            "2023-12-08 20:22:59 (INFO): Test step:143/200, travel time :125.76595744680851, rewards:-51.79043511284722, queue:34.330555555555556, delay:0.6419098324245877, throughput:1944\n",
            "2023-12-08 20:23:05 (INFO): step:3600/3600, q_loss:243.29408264160156, rewards:-44.197498914930556, queue:29.233333333333334, delay:0.6374097188313802, throughput:1970\n",
            "2023-12-08 20:23:05 (INFO): episode:144/200, real avg travel time:117.46363186541316\n",
            "2023-12-08 20:23:08 (INFO): Test step:144/200, travel time :130.2830282038595, rewards:-53.80543619791667, queue:35.641666666666666, delay:0.6514764149983724, throughput:1941\n",
            "2023-12-08 20:23:13 (INFO): step:3600/3600, q_loss:239.46095275878906, rewards:-50.36540256076389, queue:33.44444444444444, delay:0.6736971537272135, throughput:1945\n",
            "2023-12-08 20:23:13 (INFO): episode:145/200, real avg travel time:125.68777832756061\n",
            "2023-12-08 20:23:18 (INFO): Test step:145/200, travel time :110.89856506679861, rewards:-39.50125325520833, queue:26.080555555555556, delay:0.6433156331380209, throughput:1966\n",
            "2023-12-08 20:23:23 (INFO): step:3600/3600, q_loss:234.36492919921875, rewards:-45.749576822916666, queue:30.341666666666665, delay:0.6319947984483507, throughput:1957\n",
            "2023-12-08 20:23:23 (INFO): episode:146/200, real avg travel time:118.56308758040574\n",
            "2023-12-08 20:23:26 (INFO): Test step:146/200, travel time :112.02127659574468, rewards:-40.358745659722224, queue:26.663888888888888, delay:0.6141748216417101, throughput:1956\n",
            "2023-12-08 20:23:31 (INFO): step:3600/3600, q_loss:249.22048950195312, rewards:-56.509998914930556, queue:37.46944444444444, delay:0.6638606601291233, throughput:1965\n",
            "2023-12-08 20:23:31 (INFO): episode:147/200, real avg travel time:135.1286491835725\n",
            "2023-12-08 20:23:35 (INFO): Test step:147/200, travel time :126.72934190994557, rewards:-51.482090928819446, queue:34.06111111111111, delay:0.646023686726888, throughput:1966\n",
            "2023-12-08 20:23:40 (INFO): step:3600/3600, q_loss:227.0417938232422, rewards:-44.468755425347226, queue:29.41111111111111, delay:0.6608211941189236, throughput:1957\n",
            "2023-12-08 20:23:40 (INFO): episode:148/200, real avg travel time:117.69322117763484\n",
            "2023-12-08 20:23:44 (INFO): Test step:148/200, travel time :129.72488866897575, rewards:-52.80374891493056, queue:34.96666666666667, delay:0.6685084872775607, throughput:1950\n",
            "2023-12-08 20:23:49 (INFO): step:3600/3600, q_loss:228.3463134765625, rewards:-47.87209201388889, queue:31.730555555555554, delay:0.629781977335612, throughput:1963\n",
            "2023-12-08 20:23:49 (INFO): episode:149/200, real avg travel time:122.89114299851559\n",
            "2023-12-08 20:23:53 (INFO): Test step:149/200, travel time :159.34834240475013, rewards:-75.604150390625, queue:50.333333333333336, delay:0.6797037760416667, throughput:1901\n",
            "2023-12-08 20:23:59 (INFO): step:3600/3600, q_loss:216.4072265625, rewards:-52.24791666666667, queue:34.702777777777776, delay:0.6719258626302084, throughput:1943\n",
            "2023-12-08 20:23:59 (INFO): episode:150/200, real avg travel time:128.30430479960415\n",
            "2023-12-08 20:24:02 (INFO): Test step:150/200, travel time :108.69520039584364, rewards:-37.915410698784726, queue:24.988888888888887, delay:0.6209757063123915, throughput:1968\n",
            "2023-12-08 20:24:07 (INFO): step:3600/3600, q_loss:218.30511474609375, rewards:-70.71833767361112, queue:47.025, delay:0.6871650695800782, throughput:1943\n",
            "2023-12-08 20:24:07 (INFO): episode:151/200, real avg travel time:157.09005442850074\n",
            "2023-12-08 20:24:11 (INFO): Test step:151/200, travel time :119.3691241959426, rewards:-45.632074652777774, queue:30.18611111111111, delay:0.6525911966959635, throughput:1957\n",
            "2023-12-08 20:24:17 (INFO): step:3600/3600, q_loss:224.07186889648438, rewards:-56.69001736111111, queue:37.605555555555554, delay:0.6868890126546224, throughput:1948\n",
            "2023-12-08 20:24:17 (INFO): episode:152/200, real avg travel time:134.6071251855517\n",
            "2023-12-08 20:24:20 (INFO): Test step:152/200, travel time :126.0534388916378, rewards:-50.93417426215278, queue:33.80555555555556, delay:0.6588349236382378, throughput:1938\n",
            "2023-12-08 20:24:25 (INFO): step:3600/3600, q_loss:221.21414184570312, rewards:-50.4966796875, queue:33.486111111111114, delay:0.6795170254177517, throughput:1953\n",
            "2023-12-08 20:24:25 (INFO): episode:153/200, real avg travel time:126.48985650667986\n",
            "2023-12-08 20:24:29 (INFO): Test step:153/200, travel time :118.20385947550717, rewards:-44.63332248263889, queue:29.511111111111113, delay:0.6624046749538846, throughput:1960\n",
            "2023-12-08 20:24:34 (INFO): step:3600/3600, q_loss:212.78054809570312, rewards:-53.84666341145833, queue:35.76111111111111, delay:0.6870833502875434, throughput:1957\n",
            "2023-12-08 20:24:34 (INFO): episode:154/200, real avg travel time:130.93567540821377\n",
            "2023-12-08 20:24:37 (INFO): Test step:154/200, travel time :130.6036615536863, rewards:-54.727924262152776, queue:36.34444444444444, delay:0.6740090688069661, throughput:1945\n",
            "2023-12-08 20:24:43 (INFO): step:3600/3600, q_loss:211.7396240234375, rewards:-53.20667317708333, queue:35.333333333333336, delay:0.6679843902587891, throughput:1951\n",
            "2023-12-08 20:24:43 (INFO): episode:155/200, real avg travel time:130.42850074220684\n",
            "2023-12-08 20:24:49 (INFO): Test step:155/200, travel time :500.9262741217219, rewards:-164.12797309027778, queue:109.54166666666667, delay:0.7145633273654514, throughput:1437\n",
            "2023-12-08 20:24:53 (INFO): step:3600/3600, q_loss:209.084716796875, rewards:-59.22083875868056, queue:39.27777777777778, delay:0.6951834360758463, throughput:1949\n",
            "2023-12-08 20:24:53 (INFO): episode:156/200, real avg travel time:138.88322612568035\n",
            "2023-12-08 20:24:57 (INFO): Test step:156/200, travel time :127.6585848589807, rewards:-51.043766276041666, queue:33.766666666666666, delay:0.6629854414198134, throughput:1955\n",
            "2023-12-08 20:25:03 (INFO): step:3600/3600, q_loss:211.33949279785156, rewards:-53.17792426215278, queue:35.208333333333336, delay:0.6872270796034071, throughput:1957\n",
            "2023-12-08 20:25:03 (INFO): episode:157/200, real avg travel time:131.01385452746166\n",
            "2023-12-08 20:25:07 (INFO): Test step:157/200, travel time :122.5522018802573, rewards:-47.97126193576389, queue:31.81111111111111, delay:0.6721890767415365, throughput:1963\n",
            "2023-12-08 20:25:11 (INFO): step:3600/3600, q_loss:202.20033264160156, rewards:-47.50248480902778, queue:31.505555555555556, delay:0.653107410007053, throughput:1948\n",
            "2023-12-08 20:25:11 (INFO): episode:158/200, real avg travel time:121.24789708065315\n",
            "2023-12-08 20:25:14 (INFO): Test step:158/200, travel time :156.13607125185553, rewards:-71.04460177951388, queue:47.266666666666666, delay:0.684328121609158, throughput:1880\n",
            "2023-12-08 20:25:20 (INFO): step:3600/3600, q_loss:210.69432067871094, rewards:-46.16790907118055, queue:30.583333333333332, delay:0.6566006130642361, throughput:1971\n",
            "2023-12-08 20:25:20 (INFO): episode:159/200, real avg travel time:120.22464126669965\n",
            "2023-12-08 20:25:24 (INFO): Test step:159/200, travel time :131.88767936665016, rewards:-55.32002495659722, queue:36.736111111111114, delay:0.6642968071831598, throughput:1947\n",
            "2023-12-08 20:25:29 (INFO): step:3600/3600, q_loss:218.4187469482422, rewards:-53.55168728298611, queue:35.541666666666664, delay:0.6471748775906033, throughput:1965\n",
            "2023-12-08 20:25:29 (INFO): episode:160/200, real avg travel time:130.8114794656111\n",
            "2023-12-08 20:25:32 (INFO): Test step:160/200, travel time :123.2879762493815, rewards:-49.03917643229167, queue:32.55277777777778, delay:0.6551447126600477, throughput:1955\n",
            "2023-12-08 20:25:38 (INFO): step:3600/3600, q_loss:211.343505859375, rewards:-47.78375108506945, queue:31.677777777777777, delay:0.6449381510416666, throughput:1962\n",
            "2023-12-08 20:25:38 (INFO): episode:161/200, real avg travel time:122.68629391390401\n",
            "2023-12-08 20:25:42 (INFO): Test step:161/200, travel time :123.63631865413161, rewards:-48.628748914930554, queue:32.23888888888889, delay:0.67120484246148, throughput:1964\n",
            "2023-12-08 20:25:47 (INFO): step:3600/3600, q_loss:220.30796813964844, rewards:-67.533349609375, queue:44.919444444444444, delay:0.6736441294352213, throughput:1958\n",
            "2023-12-08 20:25:47 (INFO): episode:162/200, real avg travel time:147.8693715982187\n",
            "2023-12-08 20:25:50 (INFO): Test step:162/200, travel time :128.37605145967342, rewards:-51.34916449652778, queue:34.0, delay:0.6641537984212239, throughput:1943\n",
            "2023-12-08 20:25:56 (INFO): step:3600/3600, q_loss:222.0061798095703, rewards:-48.70710177951389, queue:32.272222222222226, delay:0.6836940765380859, throughput:1962\n",
            "2023-12-08 20:25:56 (INFO): episode:163/200, real avg travel time:124.1558634339436\n",
            "2023-12-08 20:26:00 (INFO): Test step:163/200, travel time :117.69569520039585, rewards:-44.197911241319446, queue:29.258333333333333, delay:0.6311468336317274, throughput:1956\n",
            "2023-12-08 20:26:05 (INFO): step:3600/3600, q_loss:224.13526916503906, rewards:-51.67125108506944, queue:34.31111111111111, delay:0.666027577718099, throughput:1972\n",
            "2023-12-08 20:26:05 (INFO): episode:164/200, real avg travel time:128.03809995051955\n",
            "2023-12-08 20:26:08 (INFO): Test step:164/200, travel time :225.60118753092527, rewards:-115.49246961805555, queue:77.16666666666667, delay:0.6835140652126737, throughput:1597\n",
            "2023-12-08 20:26:14 (INFO): step:3600/3600, q_loss:225.7830047607422, rewards:-47.38748914930556, queue:31.366666666666667, delay:0.6624230702718099, throughput:1976\n",
            "2023-12-08 20:26:14 (INFO): episode:165/200, real avg travel time:122.25333993072736\n",
            "2023-12-08 20:26:19 (INFO): Test step:165/200, travel time :123.06333498268184, rewards:-47.94708116319445, queue:31.82777777777778, delay:0.6459008110894098, throughput:1966\n",
            "2023-12-08 20:26:23 (INFO): step:3600/3600, q_loss:211.67910766601562, rewards:-48.815418836805556, queue:32.34166666666667, delay:0.6546705034044054, throughput:1964\n",
            "2023-12-08 20:26:23 (INFO): episode:166/200, real avg travel time:123.90549233052944\n",
            "2023-12-08 20:26:26 (INFO): Test step:166/200, travel time :124.03166749134093, rewards:-48.88043077256945, queue:32.43055555555556, delay:0.659670172797309, throughput:1978\n",
            "2023-12-08 20:26:32 (INFO): step:3600/3600, q_loss:213.93380737304688, rewards:-52.70667317708333, queue:34.96944444444444, delay:0.6661612616644965, throughput:1959\n",
            "2023-12-08 20:26:32 (INFO): episode:167/200, real avg travel time:129.5042058386937\n",
            "2023-12-08 20:26:36 (INFO): Test step:167/200, travel time :120.48243443839684, rewards:-46.027897135416666, queue:30.5, delay:0.6373495737711589, throughput:1963\n",
            "2023-12-08 20:26:41 (INFO): step:3600/3600, q_loss:225.6680145263672, rewards:-54.76333550347222, queue:36.32222222222222, delay:0.6364283243815104, throughput:1945\n",
            "2023-12-08 20:26:41 (INFO): episode:168/200, real avg travel time:132.14052449282534\n",
            "2023-12-08 20:26:44 (INFO): Test step:168/200, travel time :250.57298367144978, rewards:-114.85121527777778, queue:76.70833333333333, delay:0.68376219007704, throughput:1658\n",
            "2023-12-08 20:26:50 (INFO): step:3600/3600, q_loss:216.13470458984375, rewards:-50.85958658854167, queue:33.81388888888889, delay:0.6475571526421441, throughput:1936\n",
            "2023-12-08 20:26:50 (INFO): episode:169/200, real avg travel time:125.11825828797625\n",
            "2023-12-08 20:26:54 (INFO): Test step:169/200, travel time :126.66551212271153, rewards:-51.091693793402776, queue:33.91111111111111, delay:0.6762725830078125, throughput:1946\n",
            "2023-12-08 20:26:59 (INFO): step:3600/3600, q_loss:219.94752502441406, rewards:-47.871251085069446, queue:31.711111111111112, delay:0.6507779015435113, throughput:1958\n",
            "2023-12-08 20:26:59 (INFO): episode:170/200, real avg travel time:122.37258782780802\n",
            "2023-12-08 20:27:03 (INFO): Test step:170/200, travel time :114.8149430974765, rewards:-42.29124620225694, queue:27.969444444444445, delay:0.6298762427435981, throughput:1974\n",
            "2023-12-08 20:27:09 (INFO): step:3600/3600, q_loss:207.2798614501953, rewards:-52.30788302951389, queue:34.638888888888886, delay:0.6741795857747396, throughput:1962\n",
            "2023-12-08 20:27:09 (INFO): episode:171/200, real avg travel time:129.03513112320633\n",
            "2023-12-08 20:27:13 (INFO): Test step:171/200, travel time :135.38446313706086, rewards:-57.49581163194444, queue:38.28611111111111, delay:0.658820300632053, throughput:1954\n",
            "2023-12-08 20:27:18 (INFO): step:3600/3600, q_loss:207.07904052734375, rewards:-60.230419921875, queue:40.00833333333333, delay:0.694711176554362, throughput:1950\n",
            "2023-12-08 20:27:18 (INFO): episode:172/200, real avg travel time:140.09698169223157\n",
            "2023-12-08 20:27:21 (INFO): Test step:172/200, travel time :123.95596239485403, rewards:-48.832096354166666, queue:32.33888888888889, delay:0.6648592631022135, throughput:1965\n",
            "2023-12-08 20:27:27 (INFO): step:3600/3600, q_loss:200.40386962890625, rewards:-50.26457248263889, queue:33.333333333333336, delay:0.6655840979682075, throughput:1972\n",
            "2023-12-08 20:27:27 (INFO): episode:173/200, real avg travel time:126.02869866402771\n",
            "2023-12-08 20:27:31 (INFO): Test step:173/200, travel time :115.1578426521524, rewards:-42.645000542534724, queue:28.288888888888888, delay:0.6391481187608506, throughput:1973\n",
            "2023-12-08 20:27:35 (INFO): step:3600/3600, q_loss:202.46417236328125, rewards:-52.14210611979167, queue:34.638888888888886, delay:0.6589263916015625, throughput:1961\n",
            "2023-12-08 20:27:35 (INFO): episode:174/200, real avg travel time:127.99505195447799\n",
            "2023-12-08 20:27:39 (INFO): Test step:174/200, travel time :121.70460168233548, rewards:-47.62292751736111, queue:31.538888888888888, delay:0.6728863610161675, throughput:1971\n",
            "2023-12-08 20:27:46 (INFO): step:3600/3600, q_loss:204.446533203125, rewards:-62.830419921875, queue:41.74722222222222, delay:0.6829843309190539, throughput:1965\n",
            "2023-12-08 20:27:46 (INFO): episode:175/200, real avg travel time:145.9722909450767\n",
            "2023-12-08 20:27:49 (INFO): Test step:175/200, travel time :122.58040573973281, rewards:-47.48375108506944, queue:31.419444444444444, delay:0.6539041731092665, throughput:1966\n",
            "2023-12-08 20:27:54 (INFO): step:3600/3600, q_loss:210.33975219726562, rewards:-67.12916124131945, queue:44.55555555555556, delay:0.6898270924886067, throughput:1961\n",
            "2023-12-08 20:27:54 (INFO): episode:176/200, real avg travel time:155.22810489856508\n",
            "2023-12-08 20:27:58 (INFO): Test step:176/200, travel time :121.13508164275112, rewards:-46.270014105902774, queue:30.58888888888889, delay:0.6670990837944879, throughput:1963\n",
            "2023-12-08 20:28:04 (INFO): step:3600/3600, q_loss:213.0933837890625, rewards:-46.14667426215278, queue:30.53611111111111, delay:0.6602151658799913, throughput:1966\n",
            "2023-12-08 20:28:04 (INFO): episode:177/200, real avg travel time:120.8154379020287\n",
            "2023-12-08 20:28:07 (INFO): Test step:177/200, travel time :111.77585353785256, rewards:-39.83289930555556, queue:26.325, delay:0.6486857520209418, throughput:1967\n",
            "2023-12-08 20:28:12 (INFO): step:3600/3600, q_loss:218.83346557617188, rewards:-46.24541558159722, queue:30.586111111111112, delay:0.671630138821072, throughput:1967\n",
            "2023-12-08 20:28:12 (INFO): episode:178/200, real avg travel time:120.9747649678377\n",
            "2023-12-08 20:28:15 (INFO): Test step:178/200, travel time :114.08609599208313, rewards:-41.730815972222224, queue:27.57777777777778, delay:0.6501825120713975, throughput:1975\n",
            "2023-12-08 20:28:21 (INFO): step:3600/3600, q_loss:219.1660614013672, rewards:-42.83917100694445, queue:28.386111111111113, delay:0.6528290642632378, throughput:1961\n",
            "2023-12-08 20:28:21 (INFO): episode:179/200, real avg travel time:115.65561603166749\n",
            "2023-12-08 20:28:24 (INFO): Test step:179/200, travel time :126.5799109351806, rewards:-51.364979383680556, queue:34.102777777777774, delay:0.6731617397732205, throughput:1958\n",
            "2023-12-08 20:28:29 (INFO): step:3600/3600, q_loss:217.40711975097656, rewards:-45.65959201388889, queue:30.20277777777778, delay:0.6398892296685113, throughput:1975\n",
            "2023-12-08 20:28:29 (INFO): episode:180/200, real avg travel time:120.22761009401286\n",
            "2023-12-08 20:28:33 (INFO): Test step:180/200, travel time :114.01880257298367, rewards:-41.741658528645836, queue:27.68611111111111, delay:0.6297963036431207, throughput:1961\n",
            "2023-12-08 20:28:40 (INFO): step:3600/3600, q_loss:227.46170043945312, rewards:-45.138753255208336, queue:29.92222222222222, delay:0.6415274302164714, throughput:1973\n",
            "2023-12-08 20:28:40 (INFO): episode:181/200, real avg travel time:119.43443839683326\n",
            "2023-12-08 20:28:43 (INFO): Test step:181/200, travel time :125.0272142503711, rewards:-50.65499674479167, queue:33.63055555555555, delay:0.6453644646538629, throughput:1956\n",
            "2023-12-08 20:28:47 (INFO): step:3600/3600, q_loss:214.3352813720703, rewards:-44.29957682291667, queue:29.372222222222224, delay:0.6449284871419271, throughput:1964\n",
            "2023-12-08 20:28:47 (INFO): episode:182/200, real avg travel time:117.72736269173676\n",
            "2023-12-08 20:28:51 (INFO): Test step:182/200, travel time :133.72884710539336, rewards:-56.10206705729167, queue:37.28611111111111, delay:0.6615337795681424, throughput:1964\n",
            "2023-12-08 20:28:57 (INFO): step:3600/3600, q_loss:216.27430725097656, rewards:-42.81582845052083, queue:28.35, delay:0.634231440226237, throughput:1972\n",
            "2023-12-08 20:28:57 (INFO): episode:183/200, real avg travel time:115.95992083127165\n",
            "2023-12-08 20:29:00 (INFO): Test step:183/200, travel time :128.54329539831767, rewards:-52.128748914930554, queue:34.58611111111111, delay:0.648148939344618, throughput:1964\n",
            "2023-12-08 20:29:05 (INFO): step:3600/3600, q_loss:218.8321990966797, rewards:-42.91541341145833, queue:28.4, delay:0.6342698838975694, throughput:1973\n",
            "2023-12-08 20:29:05 (INFO): episode:184/200, real avg travel time:116.19000494804553\n",
            "2023-12-08 20:29:08 (INFO): Test step:184/200, travel time :120.63730826323602, rewards:-45.725016276041664, queue:30.28611111111111, delay:0.6391693962944879, throughput:1966\n",
            "2023-12-08 20:29:15 (INFO): step:3600/3600, q_loss:206.9994354248047, rewards:-53.03250325520833, queue:35.17777777777778, delay:0.6369435628255208, throughput:1954\n",
            "2023-12-08 20:29:15 (INFO): episode:185/200, real avg travel time:130.66996536368134\n",
            "2023-12-08 20:29:19 (INFO): Test step:185/200, travel time :128.1860465116279, rewards:-51.31915147569445, queue:33.925, delay:0.6712903340657552, throughput:1973\n",
            "2023-12-08 20:29:23 (INFO): step:3600/3600, q_loss:210.752685546875, rewards:-60.57081705729167, queue:40.230555555555554, delay:0.658674070570204, throughput:1935\n",
            "2023-12-08 20:29:23 (INFO): episode:186/200, real avg travel time:140.59376546264227\n",
            "2023-12-08 20:29:27 (INFO): Test step:186/200, travel time :127.01929737753588, rewards:-50.16374782986111, queue:33.225, delay:0.6402920193142361, throughput:1956\n",
            "2023-12-08 20:29:33 (INFO): step:3600/3600, q_loss:218.20938110351562, rewards:-43.79708116319444, queue:28.97222222222222, delay:0.6368268330891927, throughput:1972\n",
            "2023-12-08 20:29:33 (INFO): episode:187/200, real avg travel time:117.24938149430974\n",
            "2023-12-08 20:29:36 (INFO): Test step:187/200, travel time :131.85205343889163, rewards:-52.64123806423611, queue:34.84166666666667, delay:0.6735352834065755, throughput:1964\n",
            "2023-12-08 20:29:41 (INFO): step:3600/3600, q_loss:217.69100952148438, rewards:-52.715825737847226, queue:34.977777777777774, delay:0.6745478736029731, throughput:1952\n",
            "2023-12-08 20:29:41 (INFO): episode:188/200, real avg travel time:130.7921820880752\n",
            "2023-12-08 20:29:45 (INFO): Test step:188/200, travel time :125.1048985650668, rewards:-48.56792534722222, queue:32.17777777777778, delay:0.6551102108425564, throughput:1960\n",
            "2023-12-08 20:29:51 (INFO): step:3600/3600, q_loss:217.54383850097656, rewards:-53.66459418402778, queue:35.56666666666667, delay:0.6441047668457032, throughput:1970\n",
            "2023-12-08 20:29:51 (INFO): episode:189/200, real avg travel time:132.77041068777834\n",
            "2023-12-08 20:29:54 (INFO): Test step:189/200, travel time :114.43691241959426, rewards:-41.63625217013889, queue:27.52777777777778, delay:0.6407973395453559, throughput:1976\n",
            "2023-12-08 20:29:59 (INFO): step:3600/3600, q_loss:206.55406188964844, rewards:-41.30834147135417, queue:27.325, delay:0.6489429897732205, throughput:1964\n",
            "2023-12-08 20:29:59 (INFO): episode:190/200, real avg travel time:114.52845126175161\n",
            "2023-12-08 20:30:03 (INFO): Test step:190/200, travel time :138.82830282038594, rewards:-58.07790256076389, queue:38.55555555555556, delay:0.6754476759168837, throughput:1961\n"
          ]
        }
      ],
      "source": [
        "!python run.py -a dqn"
      ]
    },
    {
      "cell_type": "markdown",
      "metadata": {
        "id": "y-YdlRI6Ut_o"
      },
      "source": [
        "\n",
        "## Test Run LibSignal"
      ]
    },
    {
      "cell_type": "markdown",
      "source": [
        "# 新段落"
      ],
      "metadata": {
        "id": "-Lc8qGLGjupI"
      }
    },
    {
      "cell_type": "code",
      "execution_count": 32,
      "metadata": {
        "colab": {
          "base_uri": "https://localhost:8080/",
          "height": 332
        },
        "id": "qhqjL7EPTl-R",
        "outputId": "c90f89ee-963f-4142-cb24-c269105847ab"
      },
      "outputs": [
        {
          "output_type": "stream",
          "name": "stdout",
          "text": [
            "Collecting EPICS-sumo\n",
            "  Downloading epics-sumo-4.4.tar.gz (3.7 MB)\n",
            "\u001b[2K     \u001b[90m━━━━━━━━━━━━━━━━━━━━━━━━━━━━━━━━━━━━━━━━\u001b[0m \u001b[32m3.7/3.7 MB\u001b[0m \u001b[31m13.5 MB/s\u001b[0m eta \u001b[36m0:00:00\u001b[0m\n",
            "\u001b[?25h  Preparing metadata (setup.py) ... \u001b[?25l\u001b[?25hdone\n",
            "Building wheels for collected packages: EPICS-sumo\n",
            "  Building wheel for EPICS-sumo (setup.py) ... \u001b[?25l\u001b[?25hdone\n",
            "  Created wheel for EPICS-sumo: filename=epics_sumo-4.4-py3-none-any.whl size=3496308 sha256=e91638d93bde420b4be04457975ea8c19b0e40a06b022ba7a3c3dee2fd94ec32\n",
            "  Stored in directory: /root/.cache/pip/wheels/31/d2/bc/04a852a96234b2ece8b02d599a7b6d91d42a84e2ab725ccc8d\n",
            "Successfully built EPICS-sumo\n",
            "Installing collected packages: EPICS-sumo\n",
            "Successfully installed EPICS-sumo-4.4\n"
          ]
        },
        {
          "output_type": "display_data",
          "data": {
            "application/vnd.colab-display-data+json": {
              "pip_warning": {
                "packages": [
                  "sumolib"
                ]
              }
            }
          },
          "metadata": {}
        }
      ],
      "source": [
        "!pip install EPICS-sumo"
      ]
    },
    {
      "cell_type": "code",
      "execution_count": 1,
      "metadata": {
        "id": "EXBHcFvwm2Kv"
      },
      "outputs": [],
      "source": [
        "!export PATH=usr/bin:$PATH\n",
        "!export PYTHONPATH=usr/lib/python3.10/site-packages:$PYTHONPATH"
      ]
    },
    {
      "cell_type": "code",
      "execution_count": 2,
      "metadata": {
        "colab": {
          "base_uri": "https://localhost:8080/"
        },
        "id": "u6L6C5iC4NTp",
        "outputId": "665ba103-c88c-47b6-c064-b44437c5983c"
      },
      "outputs": [
        {
          "output_type": "stream",
          "name": "stdout",
          "text": [
            "Requirement already satisfied: lmdb in /usr/local/lib/python3.10/dist-packages (1.3.0)\n"
          ]
        }
      ],
      "source": [
        "!pip install lmdb"
      ]
    },
    {
      "cell_type": "code",
      "execution_count": 3,
      "metadata": {
        "colab": {
          "base_uri": "https://localhost:8080/"
        },
        "id": "Uv49cg_tnf8J",
        "outputId": "37de0d3b-3a3b-4600-fdf2-3f368e95ade6"
      },
      "outputs": [
        {
          "output_type": "stream",
          "name": "stdout",
          "text": [
            "Traceback (most recent call last):\n",
            "  File \"/content/DaRL/LibSignal/run.py\", line 80, in <module>\n",
            "    test = Runner(args)\n",
            "  File \"/content/DaRL/LibSignal/run.py\", line 43, in __init__\n",
            "    self.config, self.duplicate_config = build_config(pArgs)\n",
            "  File \"/content/DaRL/LibSignal/utils/logger.py\", line 98, in build_config\n",
            "    config, duplicates_warning = load_config(agent_name)\n",
            "  File \"/content/DaRL/LibSignal/utils/logger.py\", line 114, in load_config\n",
            "    direct_config = yaml.load(open(path, \"r\"), Loader=yaml.Loader)\n",
            "FileNotFoundError: [Errno 2] No such file or directory: './configs/tsc/fixedtime.yml'\n"
          ]
        }
      ],
      "source": [
        "!python /content/DaRL/LibSignal/run.py"
      ]
    },
    {
      "cell_type": "code",
      "execution_count": null,
      "metadata": {
        "colab": {
          "background_save": true,
          "base_uri": "https://localhost:8080/"
        },
        "id": "OoZvjaI_QKXh",
        "outputId": "1fd956bd-5772-48a6-dfbc-96510217c428"
      },
      "outputs": [
        {
          "output_type": "stream",
          "name": "stdout",
          "text": [
            "Repository: 'deb https://ppa.launchpadcontent.net/sumo/stable/ubuntu/ jammy main'\n",
            "Description:\n",
            "SUMO is a highly portable, microscopic traffic simulation package designed to handle large road networks. SUMO is open source, licensed under the EPLv2.\n",
            "More info: https://launchpad.net/~sumo/+archive/ubuntu/stable\n",
            "Adding repository.\n",
            "Press [ENTER] to continue or Ctrl-c to cancel."
          ]
        }
      ],
      "source": [
        "!sudo add-apt-repository ppa:sumo/stable\n",
        "!sudo apt-get update\n",
        "!sudo apt-get install sumo sumo-tools sumo-doc\n"
      ]
    },
    {
      "cell_type": "code",
      "execution_count": null,
      "metadata": {
        "colab": {
          "background_save": true
        },
        "id": "u_vMV5wEmRcQ"
      },
      "outputs": [],
      "source": [
        "%env LIBSUMO_AS_TRACI=1\n",
        "!echo $LIBSUMO_AS_TRACI"
      ]
    }
  ],
  "metadata": {
    "colab": {
      "provenance": [],
      "include_colab_link": true
    },
    "kernelspec": {
      "display_name": "Python 3",
      "name": "python3"
    },
    "language_info": {
      "name": "python"
    }
  },
  "nbformat": 4,
  "nbformat_minor": 0
}